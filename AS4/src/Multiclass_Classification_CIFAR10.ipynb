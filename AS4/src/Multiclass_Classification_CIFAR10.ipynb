{
  "cells": [
    {
      "cell_type": "code",
      "execution_count": 10,
      "metadata": {
        "id": "LWfClDssOa59"
      },
      "outputs": [],
      "source": [
        "#importing required libraries\n",
        "from matplotlib import pyplot\n",
        "import tensorflow as tf\n",
        "from tensorflow import keras\n",
        "from keras.datasets import cifar10\n",
        "from tensorflow.keras.utils import to_categorical\n",
        "from keras.models import Sequential\n",
        "from keras.layers import Dense, Dropout, Activation, MaxPooling2D, Flatten, Conv2D\n",
        "from keras.layers.normalization.batch_normalization import BatchNormalization\n",
        "from tensorflow.keras.optimizers import SGD\n",
        "from tensorflow.keras import layers\n",
        "from keras.backend import concatenate\n",
        "from keras.engine.training import Model\n",
        "from keras.layers.convolutional import ZeroPadding2D"
      ]
    },
    {
      "cell_type": "code",
      "execution_count": 11,
      "metadata": {
        "id": "enCTr41w0lKs"
      },
      "outputs": [],
      "source": [
        "# function to load train and test dataset\n",
        "def load_dataset():\n",
        "\t# load dataset\n",
        "\t(trainX, trainY), (testX, testY) = cifar10.load_data()\n",
        "\t# one hot encode target values\n",
        "\ttrainY = to_categorical(trainY)\n",
        "\ttestY = to_categorical(testY)\n",
        "\treturn trainX, trainY, testX, testY"
      ]
    },
    {
      "cell_type": "code",
      "execution_count": 12,
      "metadata": {
        "colab": {
          "base_uri": "https://localhost:8080/"
        },
        "id": "oXjpOgmS5uJ6",
        "outputId": "2a6c9161-cf2c-41a5-d965-4e97cc7606f4"
      },
      "outputs": [
        {
          "output_type": "stream",
          "name": "stdout",
          "text": [
            "Downloading data from https://www.cs.toronto.edu/~kriz/cifar-10-python.tar.gz\n",
            "170500096/170498071 [==============================] - 11s 0us/step\n",
            "170508288/170498071 [==============================] - 11s 0us/step\n",
            "Train: X=(50000, 32, 32, 3), y=(50000, 10)\n",
            "Test: X=(10000, 32, 32, 3), y=(10000, 10)\n"
          ]
        }
      ],
      "source": [
        "trainX, trainY, testX, testY = load_dataset()\n",
        "print('Train: X=%s, y=%s' % (trainX.shape, trainY.shape))\n",
        "print('Test: X=%s, y=%s' % (testX.shape, testY.shape))"
      ]
    },
    {
      "cell_type": "code",
      "execution_count": 13,
      "metadata": {
        "id": "7Wyp7Iom6PQm"
      },
      "outputs": [],
      "source": [
        "# data pre-processing \n",
        "def pre_processing(train, test):\n",
        "\ttrain_norm = train.astype('float32')\n",
        "\ttest_norm = test.astype('float32')\n",
        "\ttrain_norm = train_norm / 255.0\n",
        "\ttest_norm = test_norm / 255.0\n",
        "\treturn train_norm, test_norm"
      ]
    },
    {
      "cell_type": "code",
      "execution_count": 14,
      "metadata": {
        "id": "0txvkE0f8IZA"
      },
      "outputs": [],
      "source": [
        "trainX_norm, testX_norm = pre_processing(trainX,testX)"
      ]
    },
    {
      "cell_type": "code",
      "execution_count": null,
      "metadata": {
        "id": "hU8KlP2H8ZRs"
      },
      "outputs": [],
      "source": [
        "# define cnn model\n",
        "def define_cnn_model():\n",
        "\tmodel = Sequential()\n",
        "\tmodel.add(Conv2D(32, (3, 3), activation='relu',padding='same', input_shape=(32, 32, 3)))\n",
        "\tmodel.add(BatchNormalization())\n",
        "\tmodel.add(MaxPooling2D((2, 2)))\n",
        "\tmodel.add(Conv2D(64, (3, 3), activation='relu',padding='same'))\n",
        "\tmodel.add(BatchNormalization())\n",
        "\tmodel.add(MaxPooling2D((2, 2)))\n",
        "\tmodel.add(Conv2D(128, (3, 3), activation='relu',padding='same'))\n",
        "\tmodel.add(BatchNormalization())\n",
        "\tmodel.add(MaxPooling2D((2, 2)))\n",
        "\tmodel.add(Flatten())\n",
        "\tmodel.add(Dense(10, activation='softmax'))\n",
        "\t# compile model\n",
        "\topt = SGD(learning_rate=0.001, momentum=0.9)\n",
        "\tmodel.compile(optimizer=opt, loss='categorical_crossentropy', metrics=['accuracy'])\n",
        "\treturn model"
      ]
    },
    {
      "cell_type": "code",
      "source": [
        "model = define_cnn_model()\n",
        "model.summary()"
      ],
      "metadata": {
        "colab": {
          "base_uri": "https://localhost:8080/"
        },
        "id": "MpGH2Uc-QWAp",
        "outputId": "8fc08821-71d2-4f4b-86d6-4c9bf8b63dbf"
      },
      "execution_count": null,
      "outputs": [
        {
          "output_type": "stream",
          "name": "stdout",
          "text": [
            "Model: \"sequential_3\"\n",
            "_________________________________________________________________\n",
            " Layer (type)                Output Shape              Param #   \n",
            "=================================================================\n",
            " conv2d_9 (Conv2D)           (None, 32, 32, 32)        896       \n",
            "                                                                 \n",
            " batch_normalization_3 (Batc  (None, 32, 32, 32)       128       \n",
            " hNormalization)                                                 \n",
            "                                                                 \n",
            " max_pooling2d_7 (MaxPooling  (None, 16, 16, 32)       0         \n",
            " 2D)                                                             \n",
            "                                                                 \n",
            " conv2d_10 (Conv2D)          (None, 16, 16, 64)        18496     \n",
            "                                                                 \n",
            " batch_normalization_4 (Batc  (None, 16, 16, 64)       256       \n",
            " hNormalization)                                                 \n",
            "                                                                 \n",
            " max_pooling2d_8 (MaxPooling  (None, 8, 8, 64)         0         \n",
            " 2D)                                                             \n",
            "                                                                 \n",
            " conv2d_11 (Conv2D)          (None, 8, 8, 128)         73856     \n",
            "                                                                 \n",
            " batch_normalization_5 (Batc  (None, 8, 8, 128)        512       \n",
            " hNormalization)                                                 \n",
            "                                                                 \n",
            " max_pooling2d_9 (MaxPooling  (None, 4, 4, 128)        0         \n",
            " 2D)                                                             \n",
            "                                                                 \n",
            " flatten_3 (Flatten)         (None, 2048)              0         \n",
            "                                                                 \n",
            " dense_3 (Dense)             (None, 10)                20490     \n",
            "                                                                 \n",
            "=================================================================\n",
            "Total params: 114,634\n",
            "Trainable params: 114,186\n",
            "Non-trainable params: 448\n",
            "_________________________________________________________________\n"
          ]
        }
      ]
    },
    {
      "cell_type": "code",
      "source": [
        "model.fit(trainX_norm,trainY,epochs=10,batch_size=64)"
      ],
      "metadata": {
        "colab": {
          "base_uri": "https://localhost:8080/"
        },
        "id": "ryUEqYfgQh0w",
        "outputId": "a2e9ca68-32af-436a-90aa-325ef9a18e7c"
      },
      "execution_count": null,
      "outputs": [
        {
          "output_type": "stream",
          "name": "stdout",
          "text": [
            "Epoch 1/10\n",
            "782/782 [==============================] - 128s 163ms/step - loss: 1.4170 - accuracy: 0.5163\n",
            "Epoch 2/10\n",
            "782/782 [==============================] - 138s 177ms/step - loss: 1.0260 - accuracy: 0.6432\n",
            "Epoch 3/10\n",
            "782/782 [==============================] - 127s 162ms/step - loss: 0.8767 - accuracy: 0.6966\n",
            "Epoch 4/10\n",
            "782/782 [==============================] - 125s 160ms/step - loss: 0.7764 - accuracy: 0.7326\n",
            "Epoch 5/10\n",
            "782/782 [==============================] - 125s 160ms/step - loss: 0.6982 - accuracy: 0.7579\n",
            "Epoch 6/10\n",
            "782/782 [==============================] - 127s 162ms/step - loss: 0.6366 - accuracy: 0.7791\n",
            "Epoch 7/10\n",
            "782/782 [==============================] - 126s 161ms/step - loss: 0.5826 - accuracy: 0.7987\n",
            "Epoch 8/10\n",
            "782/782 [==============================] - 125s 160ms/step - loss: 0.5344 - accuracy: 0.8128\n",
            "Epoch 9/10\n",
            "782/782 [==============================] - 130s 167ms/step - loss: 0.4837 - accuracy: 0.8322\n",
            "Epoch 10/10\n",
            "782/782 [==============================] - 126s 161ms/step - loss: 0.4427 - accuracy: 0.8482\n"
          ]
        },
        {
          "output_type": "execute_result",
          "data": {
            "text/plain": [
              "<keras.callbacks.History at 0x7f00b4373ad0>"
            ]
          },
          "metadata": {},
          "execution_count": 20
        }
      ]
    },
    {
      "cell_type": "code",
      "execution_count": 64,
      "metadata": {
        "colab": {
          "base_uri": "https://localhost:8080/"
        },
        "id": "owuUNG3A_V6p",
        "outputId": "1f5cbebe-d67a-4d39-e4d8-42ff9d67c850"
      },
      "outputs": [
        {
          "output_type": "stream",
          "name": "stdout",
          "text": [
            "313/313 [==============================] - 12s 37ms/step - loss: 2.3051 - accuracy: 0.1107\n"
          ]
        }
      ],
      "source": [
        "## Model performance testing on test dataset\n",
        "test_loss,test_acc = model.evaluate(testX_norm,testY)"
      ]
    },
    {
      "cell_type": "code",
      "source": [
        "## Hyperparameter Tuning (ht) CIFAR10"
      ],
      "metadata": {
        "id": "hfBjOa5-YgJe"
      },
      "execution_count": null,
      "outputs": []
    },
    {
      "cell_type": "code",
      "source": [
        "# define_cnn_model_ht (adam optimizer)\n",
        "def define_cnn_model_ht():\n",
        "\tmodel = Sequential()\n",
        "\tmodel.add(Conv2D(32, (3, 3), activation='relu',padding='same', input_shape=(32, 32, 3)))\n",
        "\tmodel.add(BatchNormalization())\n",
        "\tmodel.add(MaxPooling2D((2, 2)))\n",
        "\tmodel.add(Conv2D(64, (3, 3), activation='relu',padding='same'))\n",
        "\tmodel.add(BatchNormalization())\n",
        "\tmodel.add(MaxPooling2D((2, 2)))\n",
        "\tmodel.add(Conv2D(128, (3, 3), activation='relu',padding='same'))\n",
        "\tmodel.add(BatchNormalization())\n",
        "\tmodel.add(MaxPooling2D((2, 2)))\n",
        "\tmodel.add(Flatten())\n",
        "\tmodel.add(Dense(10, activation='softmax'))\n",
        "\t# compile model\n",
        "\t#opt = SGD(learning_rate=0.001, momentum=0.9)\n",
        "\tmodel.compile(optimizer='adam', loss='categorical_crossentropy', metrics=['accuracy'])\n",
        "\treturn model"
      ],
      "metadata": {
        "id": "lkrFmK6RVfvA"
      },
      "execution_count": 37,
      "outputs": []
    },
    {
      "cell_type": "code",
      "source": [
        "model_ht = define_cnn_model_ht()\n",
        "model_ht.summary()"
      ],
      "metadata": {
        "colab": {
          "base_uri": "https://localhost:8080/"
        },
        "id": "beSbhiFlWg9U",
        "outputId": "86734cd9-e6e0-4599-f08e-0ff7c85694ce"
      },
      "execution_count": 39,
      "outputs": [
        {
          "output_type": "stream",
          "name": "stdout",
          "text": [
            "Model: \"sequential_5\"\n",
            "_________________________________________________________________\n",
            " Layer (type)                Output Shape              Param #   \n",
            "=================================================================\n",
            " conv2d_15 (Conv2D)          (None, 32, 32, 32)        896       \n",
            "                                                                 \n",
            " batch_normalization_9 (Batc  (None, 32, 32, 32)       128       \n",
            " hNormalization)                                                 \n",
            "                                                                 \n",
            " max_pooling2d_13 (MaxPoolin  (None, 16, 16, 32)       0         \n",
            " g2D)                                                            \n",
            "                                                                 \n",
            " conv2d_16 (Conv2D)          (None, 16, 16, 64)        18496     \n",
            "                                                                 \n",
            " batch_normalization_10 (Bat  (None, 16, 16, 64)       256       \n",
            " chNormalization)                                                \n",
            "                                                                 \n",
            " max_pooling2d_14 (MaxPoolin  (None, 8, 8, 64)         0         \n",
            " g2D)                                                            \n",
            "                                                                 \n",
            " conv2d_17 (Conv2D)          (None, 8, 8, 128)         73856     \n",
            "                                                                 \n",
            " batch_normalization_11 (Bat  (None, 8, 8, 128)        512       \n",
            " chNormalization)                                                \n",
            "                                                                 \n",
            " max_pooling2d_15 (MaxPoolin  (None, 4, 4, 128)        0         \n",
            " g2D)                                                            \n",
            "                                                                 \n",
            " flatten_5 (Flatten)         (None, 2048)              0         \n",
            "                                                                 \n",
            " dense_5 (Dense)             (None, 10)                20490     \n",
            "                                                                 \n",
            "=================================================================\n",
            "Total params: 114,634\n",
            "Trainable params: 114,186\n",
            "Non-trainable params: 448\n",
            "_________________________________________________________________\n"
          ]
        }
      ]
    },
    {
      "cell_type": "code",
      "source": [
        "# Increasing number of epochs from 10 to 15\n",
        "model_ht.fit(trainX_norm,trainY,epochs=15,batch_size=64)"
      ],
      "metadata": {
        "colab": {
          "base_uri": "https://localhost:8080/"
        },
        "id": "wCk6chWsW_VA",
        "outputId": "e70ded2f-ad82-41ae-8a53-0268b21548e0"
      },
      "execution_count": 40,
      "outputs": [
        {
          "output_type": "stream",
          "name": "stdout",
          "text": [
            "Epoch 1/15\n",
            "782/782 [==============================] - 130s 165ms/step - loss: 1.3251 - accuracy: 0.5535\n",
            "Epoch 2/15\n",
            "782/782 [==============================] - 127s 163ms/step - loss: 0.9271 - accuracy: 0.6857\n",
            "Epoch 3/15\n",
            "782/782 [==============================] - 127s 162ms/step - loss: 0.7721 - accuracy: 0.7381\n",
            "Epoch 4/15\n",
            "782/782 [==============================] - 128s 164ms/step - loss: 0.6667 - accuracy: 0.7700\n",
            "Epoch 5/15\n",
            "782/782 [==============================] - 126s 161ms/step - loss: 0.5727 - accuracy: 0.8021\n",
            "Epoch 6/15\n",
            "782/782 [==============================] - 131s 168ms/step - loss: 0.5068 - accuracy: 0.8232\n",
            "Epoch 7/15\n",
            "782/782 [==============================] - 132s 168ms/step - loss: 0.4417 - accuracy: 0.8445\n",
            "Epoch 8/15\n",
            "782/782 [==============================] - 129s 165ms/step - loss: 0.3806 - accuracy: 0.8670\n",
            "Epoch 9/15\n",
            "782/782 [==============================] - 132s 169ms/step - loss: 0.3225 - accuracy: 0.8857\n",
            "Epoch 10/15\n",
            "782/782 [==============================] - 138s 177ms/step - loss: 0.2789 - accuracy: 0.9007\n",
            "Epoch 11/15\n",
            "782/782 [==============================] - 136s 174ms/step - loss: 0.2448 - accuracy: 0.9145\n",
            "Epoch 12/15\n",
            "782/782 [==============================] - 128s 164ms/step - loss: 0.2064 - accuracy: 0.9250\n",
            "Epoch 13/15\n",
            "782/782 [==============================] - 133s 171ms/step - loss: 0.1910 - accuracy: 0.9316\n",
            "Epoch 14/15\n",
            "782/782 [==============================] - 130s 166ms/step - loss: 0.1644 - accuracy: 0.9406\n",
            "Epoch 15/15\n",
            "782/782 [==============================] - 128s 164ms/step - loss: 0.1473 - accuracy: 0.9476\n"
          ]
        },
        {
          "output_type": "execute_result",
          "data": {
            "text/plain": [
              "<keras.callbacks.History at 0x7f00b2954cd0>"
            ]
          },
          "metadata": {},
          "execution_count": 40
        }
      ]
    },
    {
      "cell_type": "code",
      "source": [
        "## Model performance testing on test dataset\n",
        "test_loss,test_acc = model_ht.evaluate(testX_norm,testY)"
      ],
      "metadata": {
        "colab": {
          "base_uri": "https://localhost:8080/"
        },
        "id": "5Di39K6-XWL8",
        "outputId": "7389cbdd-7457-4279-d1ac-7dc0b61c81ac"
      },
      "execution_count": 43,
      "outputs": [
        {
          "output_type": "stream",
          "name": "stdout",
          "text": [
            "313/313 [==============================] - 13s 43ms/step - loss: 1.4453 - accuracy: 0.7147\n"
          ]
        }
      ]
    },
    {
      "cell_type": "code",
      "source": [
        "### Inception block\n",
        "def cnn_model_with_inception(X=(32,32,3)):\n",
        "  X = tf.keras.Input(shape=X)\n",
        "  X1 = layers.Conv2D(32, (3, 3), activation='relu',padding='same', input_shape=(32, 32, 3))(X)\n",
        "  X1 = layers.BatchNormalization()(X1)\n",
        "  X1 = layers.MaxPooling2D((2, 2))(X1)\n",
        "\n",
        "  # Inception layer 1\n",
        "  conv1 = layers.Conv2D(filters= 64, kernel_size=(1, 1), activation='relu', padding ='same')(X1)\n",
        "  conv3_1 = layers.Conv2D(filters= 64, kernel_size=(1, 1), activation='relu', padding ='same')(X1)\n",
        "  conv3_3 = layers.Conv2D(filters= 64, kernel_size=(3, 3), activation='relu', padding ='same')(conv3_1)\n",
        "  conv5_1 = layers.Conv2D(filters= 64, kernel_size=(1, 1), activation='relu', padding ='same')(X1)\n",
        "  conv5_3 = layers.Conv2D(filters= 64, kernel_size=(5, 5), activation='relu', padding ='same')(conv5_1)\n",
        "  pool = layers.MaxPooling2D((3,3),strides=(1,1),padding=\"same\")(X1)\n",
        "  conv_pool_1 = layers.Conv2D(filters= 64, kernel_size=(1, 1), activation='relu',padding=\"same\")(pool)\n",
        "  output_1 = concatenate([conv1,conv3_3,conv5_3,conv_pool_1])\n",
        "\n",
        "  X2 = layers.Conv2D(64, (3, 3), activation='relu',padding='same')(output_1)\n",
        "  X2 = layers.BatchNormalization()(X2)\n",
        "  X2 = layers.MaxPooling2D((2, 2))(X2)\n",
        "\n",
        "  # Inception layer 2\n",
        "  conv1 = layers.Conv2D(filters= 64, kernel_size=(1, 1), activation='relu', padding ='same')(X2)\n",
        "  conv3_1 = layers.Conv2D(filters= 64, kernel_size=(1, 1), activation='relu', padding ='same')(X2)\n",
        "  conv3_3 = layers.Conv2D(filters= 64, kernel_size=(3, 3), activation='relu', padding ='same')(conv3_1)\n",
        "  conv5_1 = layers.Conv2D(filters= 64, kernel_size=(1, 1), activation='relu', padding ='same')(X2)\n",
        "  conv5_3 = layers.Conv2D(filters= 64, kernel_size=(5, 5), activation='relu', padding ='same')(conv5_1)\n",
        "  pool = layers.MaxPooling2D((3,3),strides=(2,2),padding=\"same\")(X1)\n",
        "  conv_pool_1 = layers.Conv2D(filters= 64, kernel_size=(1, 1), activation='relu',padding=\"same\")(pool)\n",
        "  output_2 = concatenate([conv1,conv3_3,conv5_3,conv_pool_1])\n",
        "\n",
        "  Fx = layers.Flatten()(output_2)\n",
        "  Fx = layers.Dense(10, activation='softmax')(Fx)\n",
        "\n",
        "  model = Model(inputs = X, outputs= Fx, name='cnn_model_with_inception')\n",
        "\n",
        "  #compile model\n",
        "  opt = SGD(learning_rate=0.001, momentum=0.9)\n",
        "  model.compile(optimizer=opt, loss='categorical_crossentropy', metrics=['accuracy'])\n",
        "\n",
        "  return model"
      ],
      "metadata": {
        "id": "7sm2SRgTZ9xn"
      },
      "execution_count": 15,
      "outputs": []
    },
    {
      "cell_type": "code",
      "source": [
        "model_inception= cnn_model_with_inception()"
      ],
      "metadata": {
        "id": "lR-e0xqIN8wW"
      },
      "execution_count": 16,
      "outputs": []
    },
    {
      "cell_type": "code",
      "source": [
        "model_inception.summary()"
      ],
      "metadata": {
        "colab": {
          "base_uri": "https://localhost:8080/"
        },
        "id": "CZddEOj-G9vS",
        "outputId": "1865bdda-17e7-4fa6-f079-5f0a74ffa44e"
      },
      "execution_count": 17,
      "outputs": [
        {
          "output_type": "stream",
          "name": "stdout",
          "text": [
            "Model: \"cnn_model_with_inception\"\n",
            "__________________________________________________________________________________________________\n",
            " Layer (type)                   Output Shape         Param #     Connected to                     \n",
            "==================================================================================================\n",
            " input_2 (InputLayer)           [(None, 32, 32, 3)]  0           []                               \n",
            "                                                                                                  \n",
            " conv2d_14 (Conv2D)             (None, 32, 32, 32)   896         ['input_2[0][0]']                \n",
            "                                                                                                  \n",
            " batch_normalization_2 (BatchNo  (None, 32, 32, 32)  128         ['conv2d_14[0][0]']              \n",
            " rmalization)                                                                                     \n",
            "                                                                                                  \n",
            " max_pooling2d_4 (MaxPooling2D)  (None, 16, 16, 32)  0           ['batch_normalization_2[0][0]']  \n",
            "                                                                                                  \n",
            " conv2d_16 (Conv2D)             (None, 16, 16, 64)   2112        ['max_pooling2d_4[0][0]']        \n",
            "                                                                                                  \n",
            " conv2d_18 (Conv2D)             (None, 16, 16, 64)   2112        ['max_pooling2d_4[0][0]']        \n",
            "                                                                                                  \n",
            " max_pooling2d_5 (MaxPooling2D)  (None, 16, 16, 32)  0           ['max_pooling2d_4[0][0]']        \n",
            "                                                                                                  \n",
            " conv2d_15 (Conv2D)             (None, 16, 16, 64)   2112        ['max_pooling2d_4[0][0]']        \n",
            "                                                                                                  \n",
            " conv2d_17 (Conv2D)             (None, 16, 16, 64)   36928       ['conv2d_16[0][0]']              \n",
            "                                                                                                  \n",
            " conv2d_19 (Conv2D)             (None, 16, 16, 64)   102464      ['conv2d_18[0][0]']              \n",
            "                                                                                                  \n",
            " conv2d_20 (Conv2D)             (None, 16, 16, 64)   2112        ['max_pooling2d_5[0][0]']        \n",
            "                                                                                                  \n",
            " tf.concat_2 (TFOpLambda)       (None, 16, 16, 256)  0           ['conv2d_15[0][0]',              \n",
            "                                                                  'conv2d_17[0][0]',              \n",
            "                                                                  'conv2d_19[0][0]',              \n",
            "                                                                  'conv2d_20[0][0]']              \n",
            "                                                                                                  \n",
            " conv2d_21 (Conv2D)             (None, 16, 16, 64)   147520      ['tf.concat_2[0][0]']            \n",
            "                                                                                                  \n",
            " batch_normalization_3 (BatchNo  (None, 16, 16, 64)  256         ['conv2d_21[0][0]']              \n",
            " rmalization)                                                                                     \n",
            "                                                                                                  \n",
            " max_pooling2d_6 (MaxPooling2D)  (None, 8, 8, 64)    0           ['batch_normalization_3[0][0]']  \n",
            "                                                                                                  \n",
            " conv2d_23 (Conv2D)             (None, 8, 8, 64)     4160        ['max_pooling2d_6[0][0]']        \n",
            "                                                                                                  \n",
            " conv2d_25 (Conv2D)             (None, 8, 8, 64)     4160        ['max_pooling2d_6[0][0]']        \n",
            "                                                                                                  \n",
            " max_pooling2d_7 (MaxPooling2D)  (None, 8, 8, 32)    0           ['max_pooling2d_4[0][0]']        \n",
            "                                                                                                  \n",
            " conv2d_22 (Conv2D)             (None, 8, 8, 64)     4160        ['max_pooling2d_6[0][0]']        \n",
            "                                                                                                  \n",
            " conv2d_24 (Conv2D)             (None, 8, 8, 64)     36928       ['conv2d_23[0][0]']              \n",
            "                                                                                                  \n",
            " conv2d_26 (Conv2D)             (None, 8, 8, 64)     102464      ['conv2d_25[0][0]']              \n",
            "                                                                                                  \n",
            " conv2d_27 (Conv2D)             (None, 8, 8, 64)     2112        ['max_pooling2d_7[0][0]']        \n",
            "                                                                                                  \n",
            " tf.concat_3 (TFOpLambda)       (None, 8, 8, 256)    0           ['conv2d_22[0][0]',              \n",
            "                                                                  'conv2d_24[0][0]',              \n",
            "                                                                  'conv2d_26[0][0]',              \n",
            "                                                                  'conv2d_27[0][0]']              \n",
            "                                                                                                  \n",
            " flatten_1 (Flatten)            (None, 16384)        0           ['tf.concat_3[0][0]']            \n",
            "                                                                                                  \n",
            " dense_1 (Dense)                (None, 10)           163850      ['flatten_1[0][0]']              \n",
            "                                                                                                  \n",
            "==================================================================================================\n",
            "Total params: 614,474\n",
            "Trainable params: 614,282\n",
            "Non-trainable params: 192\n",
            "__________________________________________________________________________________________________\n"
          ]
        }
      ]
    },
    {
      "cell_type": "code",
      "source": [
        "model_inception.fit(trainX_norm,trainY,epochs=7,batch_size=64)"
      ],
      "metadata": {
        "colab": {
          "base_uri": "https://localhost:8080/"
        },
        "id": "H4geenLdOfpA",
        "outputId": "7126ea1e-e2e6-4987-ddf1-6b2e2eeed23f"
      },
      "execution_count": 18,
      "outputs": [
        {
          "output_type": "stream",
          "name": "stdout",
          "text": [
            "Epoch 1/7\n",
            "782/782 [==============================] - 701s 895ms/step - loss: 1.2953 - accuracy: 0.5449\n",
            "Epoch 2/7\n",
            "782/782 [==============================] - 711s 909ms/step - loss: 0.9291 - accuracy: 0.6775\n",
            "Epoch 3/7\n",
            "782/782 [==============================] - 693s 886ms/step - loss: 0.7813 - accuracy: 0.7268\n",
            "Epoch 4/7\n",
            "782/782 [==============================] - 688s 880ms/step - loss: 0.6744 - accuracy: 0.7677\n",
            "Epoch 5/7\n",
            "782/782 [==============================] - 691s 884ms/step - loss: 0.5919 - accuracy: 0.7973\n",
            "Epoch 6/7\n",
            "782/782 [==============================] - 681s 871ms/step - loss: 0.5177 - accuracy: 0.8216\n",
            "Epoch 7/7\n",
            "782/782 [==============================] - 695s 889ms/step - loss: 0.4524 - accuracy: 0.8478\n"
          ]
        },
        {
          "output_type": "execute_result",
          "data": {
            "text/plain": [
              "<keras.callbacks.History at 0x7fbe84763dd0>"
            ]
          },
          "metadata": {},
          "execution_count": 18
        }
      ]
    },
    {
      "cell_type": "code",
      "source": [
        "test_loss,test_acc = model_inception.evaluate(testX_norm,testY)"
      ],
      "metadata": {
        "colab": {
          "base_uri": "https://localhost:8080/"
        },
        "id": "rcWZ8t-8LGj7",
        "outputId": "a577b056-e8fd-4402-b6a1-a80ff292ee14"
      },
      "execution_count": 19,
      "outputs": [
        {
          "output_type": "stream",
          "name": "stdout",
          "text": [
            "Inception Model performance testing on test dataset (for 5 epochs)\n",
            "313/313 [==============================] - 40s 128ms/step - loss: 0.8437 - accuracy: 0.7190\n"
          ]
        }
      ]
    },
    {
      "cell_type": "code",
      "source": [
        "print(\"*** Note for Inception Model for epochs = 10 ***\" )\n",
        "print(\"Note: for 10 epochs accuracy of inception_model was coming around 91.5 % but due to colab runtime error it got disconnected\")\n",
        "print(\"therefore, training for 1 more epoch in below code (total 11 epochs)\")"
      ],
      "metadata": {
        "colab": {
          "base_uri": "https://localhost:8080/"
        },
        "id": "1eRAdVhzAe9p",
        "outputId": "bf58fe2f-0318-4796-ead7-5c97de47f0ee"
      },
      "execution_count": 36,
      "outputs": [
        {
          "output_type": "stream",
          "name": "stdout",
          "text": [
            "*** Note for Inception Model for epochs = 10 ***\n",
            "Note: for 10 epochs accuracy of inception_model was coming around 91.5 % but due to colab runtime error it got disconnected\n",
            "therefore, training for 1 more epoch in below code (total 11 epochs)\n"
          ]
        }
      ]
    },
    {
      "cell_type": "code",
      "source": [
        "model_inception.fit(trainX_norm,trainY,epochs=1,batch_size=64)"
      ],
      "metadata": {
        "colab": {
          "base_uri": "https://localhost:8080/"
        },
        "id": "mG0hzDYlBOFb",
        "outputId": "36b23968-6575-4017-efb5-0f2a71cd0092"
      },
      "execution_count": 29,
      "outputs": [
        {
          "output_type": "stream",
          "name": "stdout",
          "text": [
            "782/782 [==============================] - 708s 905ms/step - loss: 0.2219 - accuracy: 0.9315\n"
          ]
        },
        {
          "output_type": "execute_result",
          "data": {
            "text/plain": [
              "<keras.callbacks.History at 0x7fbe841f2c10>"
            ]
          },
          "metadata": {},
          "execution_count": 29
        }
      ]
    },
    {
      "cell_type": "code",
      "source": [
        "print(\"Inception Model performance testing on test dataset (for 11 epochs)\")\n",
        "test_loss,test_acc = model_inception.evaluate(testX_norm,testY)"
      ],
      "metadata": {
        "colab": {
          "base_uri": "https://localhost:8080/"
        },
        "id": "z4a8oktb9HI-",
        "outputId": "dd04a50e-cb24-4f77-fa9a-e201275b1fbf"
      },
      "execution_count": 30,
      "outputs": [
        {
          "output_type": "stream",
          "name": "stdout",
          "text": [
            "Inception Model performance testing on test dataset (for 11 epochs)\n",
            "313/313 [==============================] - 37s 119ms/step - loss: 0.8753 - accuracy: 0.7374\n"
          ]
        }
      ]
    },
    {
      "cell_type": "code",
      "source": [
        "### Residual Blocks\n",
        "# define model\n",
        "def cnn_model_with_residual_blocks(X=(32,32,3)):\n",
        "  X = tf.keras.Input(shape=X)\n",
        "  X1 = layers.Conv2D(32, (3, 3), activation='relu',padding='same', input_shape=(32, 32, 3))(X)\n",
        "  X1 = layers.BatchNormalization()(X1)\n",
        "  X1 = layers.MaxPooling2D((2, 2))(X1)\n",
        "\n",
        "  ## residual layer 1 (Input X1 and Ouput Fx1)\n",
        "  Fx = layers.Conv2D(filters= 32, kernel_size=(3, 3),padding='same')(X1)\n",
        "  Fx = layers.BatchNormalization(axis=3)(Fx)\n",
        "  Fx = layers.Activation('relu')(Fx)\n",
        "  Fx1 = layers.Add()([X1, Fx])\n",
        "\n",
        "  X2 = layers.Conv2D(64, (3, 3), activation='relu',padding='same', input_shape=(32, 32, 3))(Fx1)\n",
        "  X2 = layers.BatchNormalization()(X2)\n",
        "  X2 = layers.MaxPooling2D((2, 2))(X2)\n",
        "\n",
        "  ## residual layer 2 (Input X2 and Ouput Fx2)\n",
        "  Fx = layers.Conv2D(filters= 64, kernel_size=(3, 3),padding='same')(X2)\n",
        "  Fx = layers.BatchNormalization(axis=3)(Fx)\n",
        "  Fx = layers.Activation('relu')(Fx)\n",
        "  Fx2 = layers.Add()([X2, Fx])\n",
        "\n",
        "  X3 = layers.Conv2D(128, (3, 3), activation='relu',padding='same', input_shape=(32, 32, 3))(Fx2)\n",
        "  X3 = layers.BatchNormalization()(X3)\n",
        "  X3 = layers.MaxPooling2D((2, 2))(X3)\n",
        "\n",
        "  ## residual layer 3 (Input X3 and Ouput Fx3)\n",
        "  Fx = layers.Conv2D(filters= 128, kernel_size=(3, 3),padding='same')(X3)\n",
        "  Fx = layers.BatchNormalization(axis=3)(Fx)\n",
        "  Fx = layers.Activation('relu')(Fx)\n",
        "  Fx3 = layers.Add()([X3, Fx])\n",
        "\n",
        "  Fx = layers.Activation('relu')(Fx3)\n",
        "  Fx = layers.Flatten()(Fx)\n",
        "  Fx = layers.Dense(10, activation='softmax')(Fx)\n",
        "\n",
        "  model = Model(inputs = X, outputs= Fx, name='residual_block_cnn_model')\n",
        "\n",
        "  #compile model\n",
        "  opt = SGD(learning_rate=0.001, momentum=0.9)\n",
        "  model.compile(optimizer=opt, loss='categorical_crossentropy', metrics=['accuracy'])\n",
        "\n",
        "  return model"
      ],
      "metadata": {
        "id": "VoClLOY1OdBM"
      },
      "execution_count": 22,
      "outputs": []
    },
    {
      "cell_type": "code",
      "source": [
        "model_residual = cnn_model_with_residual_blocks()"
      ],
      "metadata": {
        "id": "j90GXUH_tgei"
      },
      "execution_count": 23,
      "outputs": []
    },
    {
      "cell_type": "code",
      "source": [
        "# for epochs =10\n",
        "model_residual.fit(trainX_norm,trainY,epochs=10,batch_size=64)"
      ],
      "metadata": {
        "colab": {
          "base_uri": "https://localhost:8080/"
        },
        "id": "zpW1ptuMt0q3",
        "outputId": "056e3f06-18c0-41c8-d9f9-a1348b4134a0"
      },
      "execution_count": 24,
      "outputs": [
        {
          "output_type": "stream",
          "name": "stdout",
          "text": [
            "Epoch 1/10\n",
            "782/782 [==============================] - 202s 257ms/step - loss: 1.4763 - accuracy: 0.5021\n",
            "Epoch 2/10\n",
            "782/782 [==============================] - 195s 250ms/step - loss: 1.0542 - accuracy: 0.6351\n",
            "Epoch 3/10\n",
            "782/782 [==============================] - 191s 244ms/step - loss: 0.8899 - accuracy: 0.6917\n",
            "Epoch 4/10\n",
            "782/782 [==============================] - 190s 243ms/step - loss: 0.7732 - accuracy: 0.7303\n",
            "Epoch 5/10\n",
            "782/782 [==============================] - 190s 242ms/step - loss: 0.6891 - accuracy: 0.7606\n",
            "Epoch 6/10\n",
            "782/782 [==============================] - 191s 244ms/step - loss: 0.6173 - accuracy: 0.7861\n",
            "Epoch 7/10\n",
            "782/782 [==============================] - 193s 247ms/step - loss: 0.5439 - accuracy: 0.8103\n",
            "Epoch 8/10\n",
            "782/782 [==============================] - 195s 249ms/step - loss: 0.4928 - accuracy: 0.8268\n",
            "Epoch 9/10\n",
            "782/782 [==============================] - 192s 245ms/step - loss: 0.4374 - accuracy: 0.8485\n",
            "Epoch 10/10\n",
            "782/782 [==============================] - 190s 243ms/step - loss: 0.3886 - accuracy: 0.8667\n"
          ]
        },
        {
          "output_type": "execute_result",
          "data": {
            "text/plain": [
              "<keras.callbacks.History at 0x7fbe8453c510>"
            ]
          },
          "metadata": {},
          "execution_count": 24
        }
      ]
    },
    {
      "cell_type": "code",
      "source": [
        "print(\"Residual Model performance testing on test dataset (for 10 epochs)\")\n",
        "test_loss,test_acc = model_residual.evaluate(testX_norm,testY)"
      ],
      "metadata": {
        "colab": {
          "base_uri": "https://localhost:8080/"
        },
        "id": "TkNCDlUXt9Ba",
        "outputId": "9a3d4ec5-edf0-4158-a319-cfcdd7bb3d21"
      },
      "execution_count": 25,
      "outputs": [
        {
          "output_type": "stream",
          "name": "stdout",
          "text": [
            "Residual Model performance testing on test dataset (for 10 epochs)\n",
            "313/313 [==============================] - 11s 33ms/step - loss: 0.8886 - accuracy: 0.7196\n"
          ]
        }
      ]
    },
    {
      "cell_type": "code",
      "source": [
        "print(\"COMPARISON:\")\n",
        "print(\"Performance comparison of define_cnn_model_ht vs cnn_model_with_inception vs cnn_model_with_residual_blocks:\")\n",
        "print(\"define_cnn_model_ht (for 15 epochs) -> Train Accuracy = 94.76, Test Accuracy = 71.47\")\n",
        "print(\"define_cnn_model (for 10 epochs) -> Train Accuracy = 84.82, Test Accuracy = 11.07\")\n",
        "print(\"cnn_model_with_inception (for 10 epochs) -> Train Accuracy = 91.5, Test Accuracy = 73.74\")\n",
        "print(\"define_cnn_model_ht (for 10 epochs) -> Train Accuracy = 86.67, Test Accuracy = 71.96\")"
      ],
      "metadata": {
        "colab": {
          "base_uri": "https://localhost:8080/"
        },
        "id": "MAKFjU5G1WQZ",
        "outputId": "2a06e103-0003-407d-a510-04e46847449c"
      },
      "execution_count": 39,
      "outputs": [
        {
          "output_type": "stream",
          "name": "stdout",
          "text": [
            "COMPARISON:\n",
            "Performance comparison of define_cnn_model_ht vs cnn_model_with_inception vs cnn_model_with_residual_blocks:\n",
            "define_cnn_model_ht (for 15 epochs) -> Train Accuracy = 94.76, Test Accuracy = 71.47\n",
            "define_cnn_model (for 10 epochs) -> Train Accuracy = 84.82, Test Accuracy = 11.07\n",
            "cnn_model_with_inception (for 10 epochs) -> Train Accuracy = 91.5, Test Accuracy = 73.74\n",
            "define_cnn_model_ht (for 10 epochs) -> Train Accuracy = 86.67, Test Accuracy = 71.96\n"
          ]
        }
      ]
    },
    {
      "cell_type": "code",
      "source": [
        "print(\"CONCLUSION:\")\n",
        "print(\"So for epochs=10 we can say that inception model is performing better than residual and basic cnn model\")"
      ],
      "metadata": {
        "colab": {
          "base_uri": "https://localhost:8080/"
        },
        "id": "TX5gTZuF4iA6",
        "outputId": "05c0449e-512a-4ff8-a638-1d03ff705860"
      },
      "execution_count": 38,
      "outputs": [
        {
          "output_type": "stream",
          "name": "stdout",
          "text": [
            "CONCLUSION:\n",
            "So for epochs=10 we can say that inception model is performing better than residual and basic cnn model\n"
          ]
        }
      ]
    },
    {
      "cell_type": "code",
      "source": [
        ""
      ],
      "metadata": {
        "id": "Pz3lri43ESDB"
      },
      "execution_count": null,
      "outputs": []
    }
  ],
  "metadata": {
    "colab": {
      "collapsed_sections": [],
      "name": "CIFAR_10_Solution_4.ipynb",
      "provenance": []
    },
    "kernelspec": {
      "display_name": "Python 3",
      "name": "python3"
    },
    "language_info": {
      "name": "python"
    }
  },
  "nbformat": 4,
  "nbformat_minor": 0
}