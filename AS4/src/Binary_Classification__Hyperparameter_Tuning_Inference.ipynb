{
  "cells": [
    {
      "cell_type": "code",
      "execution_count": null,
      "metadata": {
        "id": "ZmN5b3vERN_Z"
      },
      "outputs": [],
      "source": [
        "### Question 1: Binary Classification (odd-even)\n",
        "import numpy as np\n",
        "from sklearn.model_selection import train_test_split\n",
        "import tensorflow as tf\n",
        "#from tensorflow.keras.utils import to_categorical\n",
        "import keras\n",
        "from keras.models import Model\n",
        "from keras.layers import *\n",
        "from keras import optimizers\n",
        "from keras.utils import np_utils\n",
        "from keras import models\n",
        "from keras import layers\n",
        "import matplotlib.pyplot as plt\n",
        "from tensorflow.keras import initializers\n",
        "\n",
        "## Question 1 part - a (load mnist dataset)\n",
        "train_fraction = 0.7857142857\n",
        "validation_fraction = 0.142857142\n",
        "test_fraction = 0.07142857\n",
        "\n",
        "(x_train, y_train), (x_test, y_test) = tf.keras.datasets.mnist.load_data()\n",
        "\n",
        "X = np.concatenate([x_train, x_test])\n",
        "y = np.concatenate([y_train, y_test])"
      ]
    },
    {
      "cell_type": "code",
      "execution_count": null,
      "metadata": {
        "colab": {
          "base_uri": "https://localhost:8080/"
        },
        "id": "gtBVTap3psuA",
        "outputId": "664078ae-11f2-4e0c-b564-678bee8d3342"
      },
      "outputs": [
        {
          "output_type": "stream",
          "name": "stderr",
          "text": [
            "/usr/local/lib/python3.7/dist-packages/ipykernel_launcher.py:10: DeprecationWarning: The truth value of an empty array is ambiguous. Returning False, but in future this will result in an error. Use `array.size > 0` to check that an array is not empty.\n",
            "  # Remove the CWD from sys.path while we load stuff.\n"
          ]
        }
      ],
      "source": [
        "## Question 1 part - b\n",
        "## Convert labels to odd/even\n",
        "\n",
        "even=[0,2,4,6,8]\n",
        "\n",
        "# Y_odd_even : list to store odd/even labels\n",
        "Y_odd_even= np.empty(y.shape[0],dtype=object)\n",
        "     \n",
        "for idx, item in enumerate(y):                     \n",
        "      if np.nonzero(item)[0] in even:\n",
        "            Y_odd_even[idx] = 0     # 0 or even number\n",
        "      else:\n",
        "            Y_odd_even[idx] = 1    # 1 or odd number"
      ]
    },
    {
      "cell_type": "code",
      "execution_count": null,
      "metadata": {
        "colab": {
          "base_uri": "https://localhost:8080/"
        },
        "id": "RKKj5FJUrP9f",
        "outputId": "71e751ee-8860-408c-f8d7-65ae616cd3d4"
      },
      "outputs": [
        {
          "output_type": "execute_result",
          "data": {
            "text/plain": [
              "array([0, 1, 0, ..., 0, 0, 0], dtype=object)"
            ]
          },
          "metadata": {},
          "execution_count": 62
        }
      ],
      "source": [
        "Y_odd_even"
      ]
    },
    {
      "cell_type": "code",
      "execution_count": null,
      "metadata": {
        "id": "gJt6SPPcRPL7"
      },
      "outputs": [],
      "source": [
        "## Question 1 part - a (split dataset into train/test/validation)\n",
        "X_train, X_val, y_train, y_val = train_test_split(X, Y_odd_even, test_size= 1- train_fraction)\n",
        "X_val, X_test, y_val, y_test = train_test_split(X_val, y_val, test_size=((test_fraction/(validation_fraction + test_fraction))))"
      ]
    },
    {
      "cell_type": "code",
      "execution_count": null,
      "metadata": {
        "colab": {
          "base_uri": "https://localhost:8080/"
        },
        "id": "n3fd1gCIUV3x",
        "outputId": "bc04ea4e-33b5-40e8-f8dd-826ab156427a"
      },
      "outputs": [
        {
          "output_type": "execute_result",
          "data": {
            "text/plain": [
              "((54999, 28, 28), (5001, 28, 28), (10000, 28, 28))"
            ]
          },
          "metadata": {},
          "execution_count": 64
        }
      ],
      "source": [
        "X_train.shape, X_test.shape, X_val.shape"
      ]
    },
    {
      "cell_type": "code",
      "execution_count": null,
      "metadata": {
        "colab": {
          "base_uri": "https://localhost:8080/"
        },
        "id": "rHv4JYNWTbb0",
        "outputId": "dab42003-f8a3-42a9-aebc-370b302b1fb7"
      },
      "outputs": [
        {
          "output_type": "execute_result",
          "data": {
            "text/plain": [
              "((54999, 28, 28), (5001, 28, 28), (10000, 28, 28))"
            ]
          },
          "metadata": {},
          "execution_count": 65
        }
      ],
      "source": [
        "X_train.shape, X_test.shape, X_val.shape"
      ]
    },
    {
      "cell_type": "code",
      "execution_count": null,
      "metadata": {
        "colab": {
          "base_uri": "https://localhost:8080/"
        },
        "id": "sQ-zVw9z4itu",
        "outputId": "04f193bb-ce62-4fe0-bfff-c60bb2e7697e"
      },
      "outputs": [
        {
          "output_type": "execute_result",
          "data": {
            "text/plain": [
              "((54999, 28, 28), (5001, 28, 28), (10000, 28, 28))"
            ]
          },
          "metadata": {},
          "execution_count": 66
        }
      ],
      "source": [
        "X_train.shape, X_test.shape, X_val.shape "
      ]
    },
    {
      "cell_type": "code",
      "execution_count": null,
      "metadata": {
        "id": "gqYmsFWuX-lE"
      },
      "outputs": [],
      "source": [
        "## Question 1 part - c (network construction)\n",
        "# Feature Normalization \n",
        "X_train = X_train.astype('float32'); X_val = X_val.astype('float32'); X_test = X_test.astype('float32')\n",
        "X_train /= 255; X_val /= 255; X_test /= 255"
      ]
    },
    {
      "cell_type": "code",
      "execution_count": null,
      "metadata": {
        "colab": {
          "base_uri": "https://localhost:8080/"
        },
        "id": "3mG0JVX0uAtL",
        "outputId": "75cc6037-d160-44bc-f49a-71cfd8e15b38"
      },
      "outputs": [
        {
          "output_type": "execute_result",
          "data": {
            "text/plain": [
              "(54999, 28, 28)"
            ]
          },
          "metadata": {},
          "execution_count": 68
        }
      ],
      "source": [
        "X_train.shape"
      ]
    },
    {
      "cell_type": "code",
      "execution_count": null,
      "metadata": {
        "colab": {
          "base_uri": "https://localhost:8080/"
        },
        "id": "jXPFezc26qWO",
        "outputId": "79b219fc-4745-4ce4-d526-f860720592be"
      },
      "outputs": [
        {
          "output_type": "stream",
          "name": "stdout",
          "text": [
            "Model: \"sequential_2\"\n",
            "_________________________________________________________________\n",
            " Layer (type)                Output Shape              Param #   \n",
            "=================================================================\n",
            " conv2d_4 (Conv2D)           (None, 26, 26, 32)        320       \n",
            "                                                                 \n",
            " max_pooling2d_4 (MaxPooling  (None, 13, 13, 32)       0         \n",
            " 2D)                                                             \n",
            "                                                                 \n",
            " conv2d_5 (Conv2D)           (None, 11, 11, 64)        18496     \n",
            "                                                                 \n",
            " max_pooling2d_5 (MaxPooling  (None, 5, 5, 64)         0         \n",
            " 2D)                                                             \n",
            "                                                                 \n",
            " flatten_2 (Flatten)         (None, 1600)              0         \n",
            "                                                                 \n",
            " dropout_2 (Dropout)         (None, 1600)              0         \n",
            "                                                                 \n",
            " dense_4 (Dense)             (None, 64)                102464    \n",
            "                                                                 \n",
            " dense_5 (Dense)             (None, 1)                 65        \n",
            "                                                                 \n",
            "=================================================================\n",
            "Total params: 121,345\n",
            "Trainable params: 121,345\n",
            "Non-trainable params: 0\n",
            "_________________________________________________________________\n"
          ]
        }
      ],
      "source": [
        "## model construction\n",
        "model = models.Sequential()\n",
        "model.add(layers.Conv2D(32, (3, 3), activation='relu', input_shape=(28, 28, 1)))\n",
        "model.add(layers.MaxPooling2D((2, 2)))\n",
        "model.add(layers.Conv2D(64, (3, 3), activation='relu'))\n",
        "model.add(layers.MaxPooling2D((2, 2)))\n",
        "model.add(layers.Flatten())\n",
        "model.add(layers.Dropout(0.2))\n",
        "model.add(layers.Dense(64, activation='relu'))\n",
        "model.add(layers.Dense(1, activation='sigmoid'))\n",
        "model.summary()"
      ]
    },
    {
      "cell_type": "code",
      "execution_count": null,
      "metadata": {
        "id": "YaqyPKH1DR8x"
      },
      "outputs": [],
      "source": [
        "# model compilation with appropriate params\n",
        "model.compile(optimizer='adam', loss='binary_crossentropy',metrics=['accuracy'])"
      ]
    },
    {
      "cell_type": "code",
      "execution_count": null,
      "metadata": {
        "id": "3QvygGFgS-Wq"
      },
      "outputs": [],
      "source": [
        "y_train = np.asarray(y_train).astype('float32')\n",
        "X_test_tensor = tf.convert_to_tensor(X_test, dtype=tf.float32)\n",
        "y_test_tensor = tf.convert_to_tensor(y_test, dtype=tf.float32)\n",
        "X_val_tensor = tf.convert_to_tensor(X_val, dtype=tf.float32)\n",
        "y_val_tensor = tf.convert_to_tensor(y_val, dtype=tf.float32)"
      ]
    },
    {
      "cell_type": "code",
      "execution_count": null,
      "metadata": {
        "colab": {
          "base_uri": "https://localhost:8080/"
        },
        "id": "Zm4Nn3TUX7Ek",
        "outputId": "3bdb954c-5739-4f6c-d20a-218d21bc9124"
      },
      "outputs": [
        {
          "output_type": "stream",
          "name": "stdout",
          "text": [
            "Epoch 1/5\n",
            "860/860 [==============================] - 44s 50ms/step - loss: 0.0326 - accuracy: 0.9892 - val_loss: 0.0115 - val_accuracy: 0.9963\n",
            "Epoch 2/5\n",
            "860/860 [==============================] - 46s 53ms/step - loss: 0.0102 - accuracy: 0.9966 - val_loss: 0.0058 - val_accuracy: 0.9978\n",
            "Epoch 3/5\n",
            "860/860 [==============================] - 49s 57ms/step - loss: 0.0073 - accuracy: 0.9975 - val_loss: 0.0068 - val_accuracy: 0.9977\n",
            "Epoch 4/5\n",
            "860/860 [==============================] - 52s 61ms/step - loss: 0.0059 - accuracy: 0.9980 - val_loss: 0.0035 - val_accuracy: 0.9988\n",
            "Epoch 5/5\n",
            "860/860 [==============================] - 52s 60ms/step - loss: 0.0040 - accuracy: 0.9988 - val_loss: 0.0048 - val_accuracy: 0.9981\n"
          ]
        }
      ],
      "source": [
        "# Training model using X_train/y_train and X_val_tensor/y_val_tensor (for visualization)\n",
        "history = model.fit(X_train,y_train,epochs=5,batch_size=64,validation_data=(X_val_tensor,y_val_tensor))"
      ]
    },
    {
      "cell_type": "code",
      "source": [
        "# test loss and accuracy (part-e)\n",
        "test_loss,test_acc = model.evaluate(X_test_tensor,y_test_tensor)"
      ],
      "metadata": {
        "colab": {
          "base_uri": "https://localhost:8080/"
        },
        "id": "eO5N5C6SsGm5",
        "outputId": "c92ebff2-459e-4b41-9202-46fdb3ce541a"
      },
      "execution_count": null,
      "outputs": [
        {
          "output_type": "stream",
          "name": "stdout",
          "text": [
            "157/157 [==============================] - 2s 15ms/step - loss: 0.0062 - accuracy: 0.9972\n"
          ]
        }
      ]
    },
    {
      "cell_type": "code",
      "source": [
        "# validation loss and accuracy (part-e)\n",
        "val_loss,val_acc = model.evaluate(X_val_tensor,y_val_tensor)"
      ],
      "metadata": {
        "colab": {
          "base_uri": "https://localhost:8080/"
        },
        "id": "WcbYaG1EsJKb",
        "outputId": "8c50d3c6-ea34-4fda-cea6-7f901ccaa383"
      },
      "execution_count": null,
      "outputs": [
        {
          "output_type": "stream",
          "name": "stdout",
          "text": [
            "313/313 [==============================] - 4s 11ms/step - loss: 0.0048 - accuracy: 0.9981\n"
          ]
        }
      ]
    },
    {
      "cell_type": "code",
      "execution_count": null,
      "metadata": {
        "colab": {
          "base_uri": "https://localhost:8080/"
        },
        "id": "-3ye6XV_a2rA",
        "outputId": "fe422254-11f3-4ca8-fea3-cbd516b096dc"
      },
      "outputs": [
        {
          "output_type": "execute_result",
          "data": {
            "text/plain": [
              "dict_keys(['loss', 'accuracy', 'val_loss', 'val_accuracy'])"
            ]
          },
          "metadata": {},
          "execution_count": 78
        }
      ],
      "source": [
        "history_dict = history.history\n",
        "history_dict.keys()"
      ]
    },
    {
      "cell_type": "code",
      "execution_count": null,
      "metadata": {
        "id": "BMHxOv1jbact"
      },
      "outputs": [],
      "source": [
        "acc = history.history['accuracy']\n",
        "val_acc = history.history['val_accuracy']\n",
        "loss = history.history['loss']\n",
        "val_loss = history.history['val_loss']"
      ]
    },
    {
      "cell_type": "code",
      "execution_count": null,
      "metadata": {
        "colab": {
          "base_uri": "https://localhost:8080/"
        },
        "id": "1J6JsAQafove",
        "outputId": "3b888b7f-f048-41ed-a592-dadf679db1ef"
      },
      "outputs": [
        {
          "output_type": "execute_result",
          "data": {
            "text/plain": [
              "[0.03256770595908165,\n",
              " 0.01022318098694086,\n",
              " 0.00730258459225297,\n",
              " 0.005912328604608774,\n",
              " 0.003981140907853842]"
            ]
          },
          "metadata": {},
          "execution_count": 80
        }
      ],
      "source": [
        "loss"
      ]
    },
    {
      "cell_type": "code",
      "source": [
        "epochs =range(1,len(acc)+1)"
      ],
      "metadata": {
        "id": "HwdhM9U-scnJ"
      },
      "execution_count": null,
      "outputs": []
    },
    {
      "cell_type": "code",
      "execution_count": null,
      "metadata": {
        "colab": {
          "base_uri": "https://localhost:8080/",
          "height": 295
        },
        "id": "vAHUwsS5cRIE",
        "outputId": "be17e820-e2ac-49b5-87bd-38ec0ab40a80"
      },
      "outputs": [
        {
          "output_type": "display_data",
          "data": {
            "text/plain": [
              "<Figure size 432x288 with 1 Axes>"
            ],
            "image/png": "[encoded data removed]"
          },
          "metadata": {
            "needs_background": "light"
          }
        }
      ],
      "source": [
        "## Plot Training and Validation Loss\n",
        "plt.plot(epochs,loss,'bo',label='Training loss')\n",
        "plt.plot(epochs,val_loss,'b',label='Validation loss')\n",
        "plt.title('Training and validation loss')\n",
        "plt.xlabel('Epochs')\n",
        "plt.ylabel('Loss')\n",
        "plt.legend()\n",
        "plt.show( )"
      ]
    },
    {
      "cell_type": "code",
      "execution_count": null,
      "metadata": {
        "colab": {
          "base_uri": "https://localhost:8080/",
          "height": 295
        },
        "id": "OGInHSUmdK-T",
        "outputId": "cfaa6f8c-58d1-44ea-b253-b83b5f9fcf47"
      },
      "outputs": [
        {
          "output_type": "display_data",
          "data": {
            "text/plain": [
              "<Figure size 432x288 with 1 Axes>"
            ],
            "image/png": "[encoded data removed]"
          },
          "metadata": {
            "needs_background": "light"
          }
        }
      ],
      "source": [
        "## Plot Accuracy as a function of Epochs (for training and validation)\n",
        "plt.clf()\n",
        "plt.plot(epochs,acc,'bo',label='Training acc')\n",
        "plt.plot(epochs,val_acc,'b',label='Validation acc')\n",
        "plt.title('Training and validation accuracy')\n",
        "plt.xlabel('Epochs')\n",
        "plt.ylabel('Accuracy')\n",
        "plt.legend()\n",
        "plt.show( )"
      ]
    },
    {
      "cell_type": "code",
      "execution_count": null,
      "metadata": {
        "id": "VBZZI9JYgYNz",
        "colab": {
          "base_uri": "https://localhost:8080/"
        },
        "outputId": "7d741102-4822-4cb4-a351-b32b08d264a7"
      },
      "outputs": [
        {
          "output_type": "stream",
          "name": "stdout",
          "text": [
            "Final Step Loss and Accuracy: train_loss: train_loss: 0.0040 - train_accuracy: 0.9988 - val_loss: 0.0048 - val_accuracy: 0.9981\n"
          ]
        }
      ],
      "source": [
        "## Loss and accuracy of final step training of train and validation dataset\n",
        "print(\"Final Step Loss and Accuracy: train_loss: train_loss: 0.0040 - train_accuracy: 0.9988 - val_loss: 0.0048 - val_accuracy: 0.9981\")"
      ]
    },
    {
      "cell_type": "code",
      "source": [
        "### Question 2: Hyperparameter Tuning"
      ],
      "metadata": {
        "id": "v17RAzjGwCwo"
      },
      "execution_count": null,
      "outputs": []
    },
    {
      "cell_type": "code",
      "source": [
        "# a) changing network architecture\n",
        "## model construction\n",
        "model_a = models.Sequential()\n",
        "model_a.add(layers.Conv2D(32, (3, 3), activation='relu', input_shape=(28, 28, 1)))\n",
        "model_a.add(layers.MaxPooling2D((2, 2)))\n",
        "model_a.add(layers.Conv2D(64, (3, 3), activation='relu'))\n",
        "model_a.add(layers.MaxPooling2D((2, 2)))\n",
        "model_a.add(layers.Conv2D(128, (3, 3), activation='relu'))\n",
        "model_a.add(layers.MaxPooling2D((2, 2)))\n",
        "model_a.add(layers.Flatten())\n",
        "model_a.add(layers.Dropout(0.2))\n",
        "model_a.add(layers.Dense(64, activation='relu'))\n",
        "model_a.add(layers.Dense(1, activation='sigmoid'))\n",
        "model_a.summary()\n"
      ],
      "metadata": {
        "colab": {
          "base_uri": "https://localhost:8080/"
        },
        "id": "opXlQYQD741q",
        "outputId": "5bcabfbc-e076-4b76-acc5-5315f98f0cd3"
      },
      "execution_count": null,
      "outputs": [
        {
          "output_type": "stream",
          "name": "stdout",
          "text": [
            "Model: \"sequential_4\"\n",
            "_________________________________________________________________\n",
            " Layer (type)                Output Shape              Param #   \n",
            "=================================================================\n",
            " conv2d_10 (Conv2D)          (None, 26, 26, 32)        320       \n",
            "                                                                 \n",
            " max_pooling2d_9 (MaxPooling  (None, 13, 13, 32)       0         \n",
            " 2D)                                                             \n",
            "                                                                 \n",
            " conv2d_11 (Conv2D)          (None, 11, 11, 64)        18496     \n",
            "                                                                 \n",
            " max_pooling2d_10 (MaxPoolin  (None, 5, 5, 64)         0         \n",
            " g2D)                                                            \n",
            "                                                                 \n",
            " conv2d_12 (Conv2D)          (None, 3, 3, 128)         73856     \n",
            "                                                                 \n",
            " max_pooling2d_11 (MaxPoolin  (None, 1, 1, 128)        0         \n",
            " g2D)                                                            \n",
            "                                                                 \n",
            " flatten_3 (Flatten)         (None, 128)               0         \n",
            "                                                                 \n",
            " dropout_3 (Dropout)         (None, 128)               0         \n",
            "                                                                 \n",
            " dense_6 (Dense)             (None, 64)                8256      \n",
            "                                                                 \n",
            " dense_7 (Dense)             (None, 1)                 65        \n",
            "                                                                 \n",
            "=================================================================\n",
            "Total params: 100,993\n",
            "Trainable params: 100,993\n",
            "Non-trainable params: 0\n",
            "_________________________________________________________________\n"
          ]
        }
      ]
    },
    {
      "cell_type": "code",
      "source": [
        "# model compilation with appropriate params\n",
        "model_a.compile(optimizer='adam', loss='binary_crossentropy',metrics=['accuracy'])"
      ],
      "metadata": {
        "id": "VsyGD8f8_8lm"
      },
      "execution_count": null,
      "outputs": []
    },
    {
      "cell_type": "code",
      "source": [
        "# Training model using X_train/y_train and X_val_tensor/y_val_tensor (for visualization)\n",
        "history_a = model_a.fit(X_train,y_train,epochs=5,batch_size=64,validation_data=(X_val_tensor,y_val_tensor))"
      ],
      "metadata": {
        "colab": {
          "base_uri": "https://localhost:8080/"
        },
        "id": "DdkEgniAATFk",
        "outputId": "0794ef8f-1fda-4a8b-a58c-b43460253c3e"
      },
      "execution_count": null,
      "outputs": [
        {
          "output_type": "stream",
          "name": "stdout",
          "text": [
            "Epoch 1/5\n",
            "860/860 [==============================] - 50s 58ms/step - loss: 0.0148 - accuracy: 0.9955 - val_loss: 0.0173 - val_accuracy: 0.9949\n",
            "Epoch 2/5\n",
            "860/860 [==============================] - 51s 60ms/step - loss: 0.0098 - accuracy: 0.9968 - val_loss: 0.0112 - val_accuracy: 0.9965\n",
            "Epoch 3/5\n",
            "860/860 [==============================] - 53s 62ms/step - loss: 0.0070 - accuracy: 0.9977 - val_loss: 0.0077 - val_accuracy: 0.9973\n",
            "Epoch 4/5\n",
            "860/860 [==============================] - 62s 72ms/step - loss: 0.0057 - accuracy: 0.9981 - val_loss: 0.0097 - val_accuracy: 0.9970\n",
            "Epoch 5/5\n",
            "860/860 [==============================] - 57s 67ms/step - loss: 0.0051 - accuracy: 0.9983 - val_loss: 0.0085 - val_accuracy: 0.9972\n"
          ]
        }
      ]
    },
    {
      "cell_type": "code",
      "source": [
        "# test loss and accuracy model_a\n",
        "test_loss,test_acc = model_a.evaluate(X_test_tensor,y_test_tensor)"
      ],
      "metadata": {
        "colab": {
          "base_uri": "https://localhost:8080/"
        },
        "id": "_ueW-aHqCAPJ",
        "outputId": "5016dbb9-f270-4c25-c11e-0b2ad9e27199"
      },
      "execution_count": null,
      "outputs": [
        {
          "output_type": "stream",
          "name": "stdout",
          "text": [
            "157/157 [==============================] - 2s 9ms/step - loss: 0.0054 - accuracy: 0.9984\n"
          ]
        }
      ]
    },
    {
      "cell_type": "code",
      "source": [
        "## Conclusion: starting model (test_set_accuracy is 0.9972) vs model_a accuracy (test_set_accuracy is 0.9984)## In model_a test accuracy is greater than train not possible hence, starting model is better."
      ],
      "metadata": {
        "id": "Vx1L3KaYCMym"
      },
      "execution_count": null,
      "outputs": []
    },
    {
      "cell_type": "code",
      "source": [
        "# b) changing receptive field and stride parameters\n",
        "model_b = models.Sequential()\n",
        "model_b.add(layers.Conv2D(32, (3, 3), activation='relu', input_shape=(28, 28, 1),strides=(2,2)))\n",
        "model_b.add(layers.MaxPooling2D((2, 2)))\n",
        "model_b.add(layers.Conv2D(64, (3, 3), activation='relu'))\n",
        "model_b.add(layers.MaxPooling2D((2, 2)))\n",
        "model_b.add(layers.Flatten())\n",
        "model_b.add(layers.Dropout(0.2))\n",
        "model_b.add(layers.Dense(64, activation='relu'))\n",
        "model_b.add(layers.Dense(1, activation='sigmoid'))\n",
        "model_b.summary()"
      ],
      "metadata": {
        "colab": {
          "base_uri": "https://localhost:8080/"
        },
        "id": "6e5uss8o8lbe",
        "outputId": "b4b79068-bf7b-430c-a25a-cc413a082e23"
      },
      "execution_count": null,
      "outputs": [
        {
          "output_type": "stream",
          "name": "stdout",
          "text": [
            "Model: \"sequential_8\"\n",
            "_________________________________________________________________\n",
            " Layer (type)                Output Shape              Param #   \n",
            "=================================================================\n",
            " conv2d_20 (Conv2D)          (None, 13, 13, 32)        320       \n",
            "                                                                 \n",
            " max_pooling2d_17 (MaxPoolin  (None, 6, 6, 32)         0         \n",
            " g2D)                                                            \n",
            "                                                                 \n",
            " conv2d_21 (Conv2D)          (None, 4, 4, 64)          18496     \n",
            "                                                                 \n",
            " max_pooling2d_18 (MaxPoolin  (None, 2, 2, 64)         0         \n",
            " g2D)                                                            \n",
            "                                                                 \n",
            " flatten_5 (Flatten)         (None, 256)               0         \n",
            "                                                                 \n",
            " dropout_5 (Dropout)         (None, 256)               0         \n",
            "                                                                 \n",
            " dense_10 (Dense)            (None, 64)                16448     \n",
            "                                                                 \n",
            " dense_11 (Dense)            (None, 1)                 65        \n",
            "                                                                 \n",
            "=================================================================\n",
            "Total params: 35,329\n",
            "Trainable params: 35,329\n",
            "Non-trainable params: 0\n",
            "_________________________________________________________________\n"
          ]
        }
      ]
    },
    {
      "cell_type": "code",
      "source": [
        "# model compilation with optimizer =rmsprop and loss function = categorical_crossentropy\n",
        "model_b.compile(optimizer='rmsprop', loss='categorical_crossentropy',metrics=['accuracy'])"
      ],
      "metadata": {
        "id": "qiNphaAg_MOI"
      },
      "execution_count": null,
      "outputs": []
    },
    {
      "cell_type": "code",
      "source": [
        "# Training model using X_train/y_train\n",
        "history_b = model_b.fit(X_train,y_train,epochs=5,batch_size=64)"
      ],
      "metadata": {
        "colab": {
          "base_uri": "https://localhost:8080/"
        },
        "id": "il43dPIjEU8j",
        "outputId": "1689f51c-0765-4ba0-99b6-49a562a42e69"
      },
      "execution_count": null,
      "outputs": [
        {
          "output_type": "stream",
          "name": "stdout",
          "text": [
            "Epoch 1/5\n",
            "860/860 [==============================] - 13s 14ms/step - loss: 0.0000e+00 - accuracy: 0.9022\n",
            "Epoch 2/5\n",
            "860/860 [==============================] - 11s 13ms/step - loss: 0.0000e+00 - accuracy: 0.9022\n",
            "Epoch 3/5\n",
            "860/860 [==============================] - 12s 14ms/step - loss: 0.0000e+00 - accuracy: 0.9022\n",
            "Epoch 4/5\n",
            "860/860 [==============================] - 14s 16ms/step - loss: 0.0000e+00 - accuracy: 0.9022\n",
            "Epoch 5/5\n",
            "860/860 [==============================] - 13s 15ms/step - loss: 0.0000e+00 - accuracy: 0.9022\n"
          ]
        }
      ]
    },
    {
      "cell_type": "code",
      "source": [
        "# test loss and accuracy model_b\n",
        "test_loss,test_acc = model_b.evaluate(X_test_tensor,y_test_tensor)"
      ],
      "metadata": {
        "colab": {
          "base_uri": "https://localhost:8080/"
        },
        "id": "uM3eeWEGF_JA",
        "outputId": "eab79877-8388-4de7-e197-63628dea4e8c"
      },
      "execution_count": null,
      "outputs": [
        {
          "output_type": "stream",
          "name": "stdout",
          "text": [
            "157/157 [==============================] - 1s 3ms/step - loss: 0.0000e+00 - accuracy: 0.9034\n"
          ]
        }
      ]
    },
    {
      "cell_type": "code",
      "source": [
        "print(\"Conclusion:\")\n",
        "print(\"starting model (test_set_accuracy is 0.9972) vs model_a accuracy (test_set_accuracy is 0.9984) vs model_b accuracy (test_set_accuracy is 0.9034)\")\n",
        "print(\"So we can say optimizer='adam' is better than optimizer='rmsprop' for mnist classification\")\n",
        "print(\"Also loss='binary_crossentropy' is better than loss='categorical_crossentropy' for mnist classification\")"
      ],
      "metadata": {
        "id": "pxU8wQi9GEaR",
        "colab": {
          "base_uri": "https://localhost:8080/"
        },
        "outputId": "48ca1632-77e0-463f-aab3-dd91528c0d47"
      },
      "execution_count": 1,
      "outputs": [
        {
          "output_type": "stream",
          "name": "stdout",
          "text": [
            "Conclusion:\n",
            "starting model (test_set_accuracy is 0.9972) vs model_a accuracy (test_set_accuracy is 0.9984) vs model_b accuracy (test_set_accuracy is 0.9034)\n",
            "So we can say optimizer='adam' is better than optimizer='rmsprop' for mnist classification\n",
            "Also loss='binary_crossentropy' is better than loss='categorical_crossentropy' for mnist classification\n"
          ]
        }
      ]
    },
    {
      "cell_type": "code",
      "source": [
        "# c) changing various parameters (here: number of epochs), adding batch normalization and using different weight intializers\n",
        "## adding BatchNormalization and Weight Intializer\n",
        "model_c = models.Sequential()\n",
        "model_c.add(layers.Conv2D(32, (3, 3), activation='relu', input_shape=(28, 28, 1)))\n",
        "model_c.add(BatchNormalization())\n",
        "model_c.add(layers.MaxPooling2D((2, 2)))\n",
        "model_c.add(layers.Conv2D(64, (3, 3), activation='relu'))\n",
        "model_c.add(BatchNormalization())\n",
        "model_c.add(layers.MaxPooling2D((2, 2)))\n",
        "model_c.add(layers.Flatten())\n",
        "model_c.add(layers.Dropout(0.2))\n",
        "model_c.add(layers.Dense(64, activation='relu'))\n",
        "initializer = tf.keras.initializers.GlorotUniform() ### Normalized Xavier/Glorot Initialization \n",
        "model_c.add(layers.Dense(1,kernel_initializer=initializer, activation='sigmoid'))\n",
        "model_c.summary()"
      ],
      "metadata": {
        "colab": {
          "base_uri": "https://localhost:8080/"
        },
        "id": "W6kfsJV8Fp89",
        "outputId": "a6a0fdba-af5f-4b86-e480-5cbdee4732e5"
      },
      "execution_count": null,
      "outputs": [
        {
          "output_type": "stream",
          "name": "stdout",
          "text": [
            "Model: \"sequential_13\"\n",
            "_________________________________________________________________\n",
            " Layer (type)                Output Shape              Param #   \n",
            "=================================================================\n",
            " conv2d_26 (Conv2D)          (None, 26, 26, 32)        320       \n",
            "                                                                 \n",
            " batch_normalization_4 (Batc  (None, 26, 26, 32)       128       \n",
            " hNormalization)                                                 \n",
            "                                                                 \n",
            " max_pooling2d_23 (MaxPoolin  (None, 13, 13, 32)       0         \n",
            " g2D)                                                            \n",
            "                                                                 \n",
            " conv2d_27 (Conv2D)          (None, 11, 11, 64)        18496     \n",
            "                                                                 \n",
            " batch_normalization_5 (Batc  (None, 11, 11, 64)       256       \n",
            " hNormalization)                                                 \n",
            "                                                                 \n",
            " max_pooling2d_24 (MaxPoolin  (None, 5, 5, 64)         0         \n",
            " g2D)                                                            \n",
            "                                                                 \n",
            " flatten_8 (Flatten)         (None, 1600)              0         \n",
            "                                                                 \n",
            " dropout_8 (Dropout)         (None, 1600)              0         \n",
            "                                                                 \n",
            " dense_16 (Dense)            (None, 64)                102464    \n",
            "                                                                 \n",
            " dense_17 (Dense)            (None, 1)                 65        \n",
            "                                                                 \n",
            "=================================================================\n",
            "Total params: 121,729\n",
            "Trainable params: 121,537\n",
            "Non-trainable params: 192\n",
            "_________________________________________________________________\n"
          ]
        }
      ]
    },
    {
      "cell_type": "code",
      "source": [
        "# model_c compilation \n",
        "model_c.compile(optimizer='adam', loss='binary_crossentropy',metrics=['accuracy'])"
      ],
      "metadata": {
        "id": "MoPTFFtyLkxA"
      },
      "execution_count": null,
      "outputs": []
    },
    {
      "cell_type": "code",
      "source": [
        "# Training model using X_train/y_train (using epochs=3)\n",
        "history_c = model_c.fit(X_train,y_train,epochs=3,batch_size=64)"
      ],
      "metadata": {
        "colab": {
          "base_uri": "https://localhost:8080/"
        },
        "id": "DA6B-22-MW-I",
        "outputId": "5baee7d6-cf74-4203-c953-ab83ae2060ef"
      },
      "execution_count": null,
      "outputs": [
        {
          "output_type": "stream",
          "name": "stdout",
          "text": [
            "Epoch 1/3\n",
            "860/860 [==============================] - 62s 70ms/step - loss: 0.0220 - accuracy: 0.9934\n",
            "Epoch 2/3\n",
            "860/860 [==============================] - 59s 69ms/step - loss: 0.0062 - accuracy: 0.9979\n",
            "Epoch 3/3\n",
            "860/860 [==============================] - 66s 77ms/step - loss: 0.0047 - accuracy: 0.9983\n"
          ]
        }
      ]
    },
    {
      "cell_type": "code",
      "source": [
        "# test loss and accuracy model_c\n",
        "test_loss,test_acc = model_c.evaluate(X_test_tensor,y_test_tensor)"
      ],
      "metadata": {
        "colab": {
          "base_uri": "https://localhost:8080/"
        },
        "id": "tPEkYIMPNZYl",
        "outputId": "dae54879-ea1a-4382-c519-9479fbf94551"
      },
      "execution_count": null,
      "outputs": [
        {
          "output_type": "stream",
          "name": "stdout",
          "text": [
            "157/157 [==============================] - 2s 11ms/step - loss: 0.0050 - accuracy: 0.9986\n"
          ]
        }
      ]
    },
    {
      "cell_type": "code",
      "source": [
        "print(\"Conclusion:\")\n",
        "print(\"Starting model (test_set_accuracy is 0.9972) vs model_a accuracy (test_set_accuracy is higher than train accuracy so not a good model\")\n",
        "print(\"vs model_b accuracy (test_set_accuracy is 0.9034) vs model_c accuracy (test_set_accuracy is higher than train accuracy so not a good model\")\n",
        "print(\"Hence we can say basic model is best model out of all\")"
      ],
      "metadata": {
        "id": "Uv5wTKf5Mvka",
        "colab": {
          "base_uri": "https://localhost:8080/"
        },
        "outputId": "b49155fa-5cb5-47a5-85a4-9f59826edf31"
      },
      "execution_count": 4,
      "outputs": [
        {
          "output_type": "stream",
          "name": "stdout",
          "text": [
            "Conclusion:\n",
            "Starting model (test_set_accuracy is 0.9972) vs model_a accuracy (test_set_accuracy is higher than train accuracy so not a good model\n",
            "vs model_b accuracy (test_set_accuracy is 0.9034) vs model_c accuracy (test_set_accuracy is higher than train accuracy so not a good model\n",
            "Hence we can say basic model is best model out of all\n"
          ]
        }
      ]
    },
    {
      "cell_type": "code",
      "source": [
        "### Question: 3 Inference"
      ],
      "metadata": {
        "id": "LNvszT8EOEvB"
      },
      "execution_count": null,
      "outputs": []
    },
    {
      "cell_type": "code",
      "source": [
        "from google.colab import drive\n",
        "drive.mount('/content/gdrive')"
      ],
      "metadata": {
        "colab": {
          "base_uri": "https://localhost:8080/"
        },
        "id": "tS4PsnEHOH_3",
        "outputId": "7aa593fb-88c2-45b7-97f5-5a10fd9c5f21"
      },
      "execution_count": null,
      "outputs": [
        {
          "output_type": "stream",
          "name": "stdout",
          "text": [
            "Drive already mounted at /content/gdrive; to attempt to forcibly remount, call drive.mount(\"/content/gdrive\", force_remount=True).\n"
          ]
        }
      ]
    },
    {
      "cell_type": "code",
      "source": [
        "%cd /content/gdrive/\"My Drive\"/ComputerVision"
      ],
      "metadata": {
        "colab": {
          "base_uri": "https://localhost:8080/"
        },
        "id": "FcA0oExjOI3D",
        "outputId": "0c8cd6fd-7b64-42f1-d9e6-e1eb6a1e4b34"
      },
      "execution_count": null,
      "outputs": [
        {
          "output_type": "stream",
          "name": "stdout",
          "text": [
            "/content/gdrive/My Drive/ComputerVision\n"
          ]
        }
      ]
    },
    {
      "cell_type": "code",
      "source": [
        "import cv2\n",
        "import matplotlib.pyplot as plt\n",
        "from tensorflow import keras\n",
        "import numpy as np\n",
        "%matplotlib inline\n",
        "# Read image\n",
        "digit_img = cv2.imread('mnist_sample_image.png')\n",
        "# Original Input Image\n",
        "plt.imshow(digit_img)"
      ],
      "metadata": {
        "colab": {
          "base_uri": "https://localhost:8080/",
          "height": 287
        },
        "id": "RGkTzdBqOLXn",
        "outputId": "0ed25b2d-60ed-4be7-f437-eba1409a0c3c"
      },
      "execution_count": null,
      "outputs": [
        {
          "output_type": "execute_result",
          "data": {
            "text/plain": [
              "<matplotlib.image.AxesImage at 0x7fbafbb6a910>"
            ]
          },
          "metadata": {},
          "execution_count": 132
        },
        {
          "output_type": "display_data",
          "data": {
            "text/plain": [
              "<Figure size 432x288 with 1 Axes>"
            ],
            "image/png": "[encoded data removed]"
          },
          "metadata": {
            "needs_background": "light"
          }
        }
      ]
    },
    {
      "cell_type": "code",
      "source": [
        "width = 28\n",
        "height = 28\n",
        "dim = (width, height)\n",
        "# resize image\n",
        "resized = cv2.resize(digit_img,dim)\n",
        "print('Resized Dimensions : ',resized.shape)"
      ],
      "metadata": {
        "colab": {
          "base_uri": "https://localhost:8080/"
        },
        "id": "1pZFL5ZQOOiI",
        "outputId": "f670eeb6-cd97-4d7e-f46d-21b12a9168c6"
      },
      "execution_count": null,
      "outputs": [
        {
          "output_type": "stream",
          "name": "stdout",
          "text": [
            "Resized Dimensions :  (28, 28, 3)\n"
          ]
        }
      ]
    },
    {
      "cell_type": "code",
      "source": [
        "plt.imshow(resized)"
      ],
      "metadata": {
        "colab": {
          "base_uri": "https://localhost:8080/",
          "height": 283
        },
        "id": "LGtqZWUUORef",
        "outputId": "769fe7e3-0c2e-4bf4-af73-0675c0dbb6ac"
      },
      "execution_count": null,
      "outputs": [
        {
          "output_type": "execute_result",
          "data": {
            "text/plain": [
              "<matplotlib.image.AxesImage at 0x7fbafa3df890>"
            ]
          },
          "metadata": {},
          "execution_count": 134
        },
        {
          "output_type": "display_data",
          "data": {
            "text/plain": [
              "<Figure size 432x288 with 1 Axes>"
            ],
            "image/png": "[encoded data removed]"
          },
          "metadata": {
            "needs_background": "light"
          }
        }
      ]
    },
    {
      "cell_type": "code",
      "source": [
        "# Reshape image to 28*28*1\n",
        "gray = cv2.cvtColor(resized, cv2.COLOR_BGR2GRAY)\n",
        "gray = np.expand_dims(gray, 2)\n",
        "gray.shape"
      ],
      "metadata": {
        "colab": {
          "base_uri": "https://localhost:8080/"
        },
        "id": "bTr9doq6OW9c",
        "outputId": "0381a038-754e-4219-f1bf-3bfa669b2318"
      },
      "execution_count": null,
      "outputs": [
        {
          "output_type": "execute_result",
          "data": {
            "text/plain": [
              "(28, 28, 1)"
            ]
          },
          "metadata": {},
          "execution_count": 135
        }
      ]
    },
    {
      "cell_type": "code",
      "source": [
        "#cv2.adaptiveThreshold()\n",
        "adt_img = cv2.adaptiveThreshold(gray, 255, cv2.ADAPTIVE_THRESH_GAUSSIAN_C, cv2.THRESH_BINARY, 11, 2)"
      ],
      "metadata": {
        "id": "32c-J0CAOhMY"
      },
      "execution_count": null,
      "outputs": []
    },
    {
      "cell_type": "code",
      "source": [
        "adt_img.shape"
      ],
      "metadata": {
        "colab": {
          "base_uri": "https://localhost:8080/"
        },
        "id": "UPqiRVviOoPM",
        "outputId": "f9e4e97f-1e4f-4b24-a0fa-e932bd5910cf"
      },
      "execution_count": null,
      "outputs": [
        {
          "output_type": "execute_result",
          "data": {
            "text/plain": [
              "(28, 28)"
            ]
          },
          "metadata": {},
          "execution_count": 137
        }
      ]
    },
    {
      "cell_type": "code",
      "source": [
        "##display into 2 windows (/displaying on console)\n",
        "## Original Resized Image\n",
        "plt.imshow(resized)"
      ],
      "metadata": {
        "colab": {
          "base_uri": "https://localhost:8080/",
          "height": 283
        },
        "id": "KOBsKzinOqOl",
        "outputId": "cd0d3822-3bf0-4583-b1bc-abc70e908bdd"
      },
      "execution_count": null,
      "outputs": [
        {
          "output_type": "execute_result",
          "data": {
            "text/plain": [
              "<matplotlib.image.AxesImage at 0x7fbafa34b110>"
            ]
          },
          "metadata": {},
          "execution_count": 138
        },
        {
          "output_type": "display_data",
          "data": {
            "text/plain": [
              "<Figure size 432x288 with 1 Axes>"
            ],
            "image/png": "[encoded data removed]"
          },
          "metadata": {
            "needs_background": "light"
          }
        }
      ]
    },
    {
      "cell_type": "code",
      "source": [
        "## Image after adaptive threshold\n",
        "plt.imshow(adt_img)"
      ],
      "metadata": {
        "colab": {
          "base_uri": "https://localhost:8080/",
          "height": 283
        },
        "id": "90WdAf0WO2dR",
        "outputId": "90027396-7898-4311-957d-656382a6611f"
      },
      "execution_count": null,
      "outputs": [
        {
          "output_type": "execute_result",
          "data": {
            "text/plain": [
              "<matplotlib.image.AxesImage at 0x7fbafa323d50>"
            ]
          },
          "metadata": {},
          "execution_count": 139
        },
        {
          "output_type": "display_data",
          "data": {
            "text/plain": [
              "<Figure size 432x288 with 1 Axes>"
            ],
            "image/png": "[encoded data removed]"
          },
          "metadata": {
            "needs_background": "light"
          }
        }
      ]
    },
    {
      "cell_type": "code",
      "source": [
        "input_img_for_cnn = adt_img.reshape(1,28,28,1)"
      ],
      "metadata": {
        "id": "VTDwwXrBO_FL"
      },
      "execution_count": null,
      "outputs": []
    },
    {
      "cell_type": "code",
      "source": [
        "input_img_for_cnn.shape"
      ],
      "metadata": {
        "colab": {
          "base_uri": "https://localhost:8080/"
        },
        "id": "ivwVDXoPPCYV",
        "outputId": "b1b1c7b3-6366-4d60-b19f-9c381785c421"
      },
      "execution_count": null,
      "outputs": [
        {
          "output_type": "execute_result",
          "data": {
            "text/plain": [
              "(1, 28, 28, 1)"
            ]
          },
          "metadata": {},
          "execution_count": 141
        }
      ]
    },
    {
      "cell_type": "code",
      "source": [
        "## Prediction of input image\n",
        "output= model.predict(input_img_for_cnn)\n",
        "output"
      ],
      "metadata": {
        "colab": {
          "base_uri": "https://localhost:8080/"
        },
        "id": "qDjPAdiCQj-M",
        "outputId": "04cf3cd1-d3d2-416c-b406-ed7073ffd041"
      },
      "execution_count": null,
      "outputs": [
        {
          "output_type": "execute_result",
          "data": {
            "text/plain": [
              "array([[0.]], dtype=float32)"
            ]
          },
          "metadata": {},
          "execution_count": 147
        }
      ]
    },
    {
      "cell_type": "code",
      "source": [
        "## Prediction output\n",
        "if (0<=output<0.5):\n",
        "  print(\"Input Image is an even number\")\n",
        "else:\n",
        "  print(\"Input Image is an odd number\")"
      ],
      "metadata": {
        "colab": {
          "base_uri": "https://localhost:8080/"
        },
        "id": "6E4kynxVQz3J",
        "outputId": "b75b3fb8-797e-4c64-f768-7e9ea1127702"
      },
      "execution_count": null,
      "outputs": [
        {
          "output_type": "stream",
          "name": "stdout",
          "text": [
            "Input Image is an even number\n"
          ]
        }
      ]
    },
    {
      "cell_type": "code",
      "source": [
        ""
      ],
      "metadata": {
        "id": "6mVE7_HoRvLb"
      },
      "execution_count": null,
      "outputs": []
    }
  ],
  "metadata": {
    "colab": {
      "collapsed_sections": [],
      "name": "Binary_Classification__Hyperparameter_Tuning_Inference.ipynb",
      "provenance": []
    },
    "kernelspec": {
      "display_name": "Python 3 (ipykernel)",
      "language": "python",
      "name": "python3"
    },
    "language_info": {
      "codemirror_mode": {
        "name": "ipython",
        "version": 3
      },
      "file_extension": ".py",
      "mimetype": "text/x-python",
      "name": "python",
      "nbconvert_exporter": "python",
      "pygments_lexer": "ipython3",
      "version": "3.9.7"
    }
  },
  "nbformat": 4,
  "nbformat_minor": 0
}