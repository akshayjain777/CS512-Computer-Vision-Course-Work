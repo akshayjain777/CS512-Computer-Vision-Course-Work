{
 "cells": [
  {
   "cell_type": "code",
   "execution_count": 27,
   "id": "f37666d9",
   "metadata": {},
   "outputs": [],
   "source": [
    "import numpy as np\n",
    "import pandas as pd"
   ]
  },
  {
   "cell_type": "code",
   "execution_count": 251,
   "id": "0c89e27d",
   "metadata": {},
   "outputs": [],
   "source": [
    "world_pt = np.loadtxt(\"world_points.txt\")\n",
    "world_pt[:, 2] =1 ## for planar caliberation\n",
    "#print(world_pt)"
   ]
  },
  {
   "cell_type": "code",
   "execution_count": 252,
   "id": "6ce5cc32",
   "metadata": {},
   "outputs": [
    {
     "data": {
      "text/plain": [
       "((121, 3), (121, 2))"
      ]
     },
     "execution_count": 252,
     "metadata": {},
     "output_type": "execute_result"
    }
   ],
   "source": [
    "world_pt.shape, img1.shape"
   ]
  },
  {
   "cell_type": "code",
   "execution_count": 294,
   "id": "2a523db8",
   "metadata": {},
   "outputs": [],
   "source": [
    "img1 = np.loadtxt(\"image1.txt\")\n",
    "img2 = np.loadtxt(\"image2.txt\")\n",
    "img3 = np.loadtxt(\"image3.txt\")"
   ]
  },
  {
   "cell_type": "code",
   "execution_count": 295,
   "id": "91213c14",
   "metadata": {},
   "outputs": [
    {
     "data": {
      "text/plain": [
       "((121, 2), (121, 2))"
      ]
     },
     "execution_count": 295,
     "metadata": {},
     "output_type": "execute_result"
    }
   ],
   "source": [
    "img2.shape, img3.shape"
   ]
  },
  {
   "cell_type": "code",
   "execution_count": 297,
   "id": "8153f694",
   "metadata": {},
   "outputs": [],
   "source": [
    "# for img1\n",
    "x = img1[:,0]\n",
    "y= img1[:,1]\n",
    "XP = []\n",
    "for i in range(len(world_pt)):\n",
    "    a = (x[i]*world_pt[i])\n",
    "    XP.append(a)\n",
    "YP = []\n",
    "for i in range(len(world_pt)):\n",
    "    a = (y[i]*world_pt[i])\n",
    "    YP.append(a)"
   ]
  },
  {
   "cell_type": "code",
   "execution_count": 298,
   "id": "29562423",
   "metadata": {
    "scrolled": false
   },
   "outputs": [
    {
     "data": {
      "text/plain": [
       "array([[ 3.00000000e+02,  3.00000000e+02,  1.00000000e+00, ...,\n",
       "        -1.26100320e+05, -1.26100320e+05, -4.20334400e+02],\n",
       "       [ 1.00000000e+02,  1.00000000e+02,  1.00000000e+00, ...,\n",
       "        -2.43273700e+04, -2.43273700e+04, -2.43273700e+02],\n",
       "       [ 0.00000000e+00,  0.00000000e+00,  0.00000000e+00, ...,\n",
       "        -6.84347000e+03, -6.84347000e+03, -6.84347000e+01],\n",
       "       ...,\n",
       "       [ 0.00000000e+00,  0.00000000e+00,  0.00000000e+00, ...,\n",
       "        -1.34181540e+05, -1.25236104e+05, -4.47271800e+02],\n",
       "       [ 3.00000000e+02,  3.00000000e+02,  1.00000000e+00, ...,\n",
       "        -1.26100320e+05, -1.26100320e+05, -4.20334400e+02],\n",
       "       [ 0.00000000e+00,  0.00000000e+00,  0.00000000e+00, ...,\n",
       "        -1.39306380e+05, -1.39306380e+05, -4.64354600e+02]])"
      ]
     },
     "execution_count": 298,
     "metadata": {},
     "output_type": "execute_result"
    }
   ],
   "source": [
    "M = np.empty((9))\n",
    "for i in range(len(world_pt)):\n",
    "    a = world_pt[i]\n",
    "    b = -XP[i]\n",
    "    c = -YP[i]\n",
    "    row1 = [a[0],a[1],a[2], 0,0,0, b[0],b[1],b[2]]\n",
    "    row2 = [0,0,0, a[0],a[1],a[2],c[0],c[1],c[2]]\n",
    "    d = np.vstack([row1,row2])\n",
    "    #print(M.shape)\n",
    "    M = np.vstack([M,d])\n",
    "M"
   ]
  },
  {
   "cell_type": "code",
   "execution_count": 311,
   "id": "ac2487ac",
   "metadata": {},
   "outputs": [
    {
     "data": {
      "text/plain": [
       "(243, 243, 243)"
      ]
     },
     "execution_count": 311,
     "metadata": {},
     "output_type": "execute_result"
    }
   ],
   "source": [
    "len(M),len(M2),len(M3)"
   ]
  },
  {
   "cell_type": "code",
   "execution_count": 299,
   "id": "f408aabf",
   "metadata": {},
   "outputs": [],
   "source": [
    "# for img2\n",
    "x2 = img2[:,0]\n",
    "y2 = img2[:,1]\n",
    "XP2 = []\n",
    "for i in range(len(world_pt)):\n",
    "    a = (x2[i]*world_pt[i])\n",
    "    XP2.append(a)\n",
    "YP2 = []\n",
    "for i in range(len(world_pt)):\n",
    "    a = (y2[i]*world_pt[i])\n",
    "    YP2.append(a)"
   ]
  },
  {
   "cell_type": "code",
   "execution_count": 300,
   "id": "3349e0fb",
   "metadata": {},
   "outputs": [
    {
     "data": {
      "text/plain": [
       "array([[ 3.00000000e+02,  3.00000000e+02,  1.00000000e+00, ...,\n",
       "        -1.26100320e+05, -1.26100320e+05, -4.20334400e+02],\n",
       "       [ 1.00000000e+02,  1.00000000e+02,  1.00000000e+00, ...,\n",
       "        -2.85200400e+04, -2.85200400e+04, -2.85200400e+02],\n",
       "       [ 0.00000000e+00,  0.00000000e+00,  0.00000000e+00, ...,\n",
       "        -8.78261000e+03, -8.78261000e+03, -8.78261000e+01],\n",
       "       ...,\n",
       "       [ 0.00000000e+00,  0.00000000e+00,  0.00000000e+00, ...,\n",
       "        -1.29903990e+05, -1.21243724e+05, -4.33013300e+02],\n",
       "       [ 3.00000000e+02,  3.00000000e+02,  1.00000000e+00, ...,\n",
       "        -1.10738640e+05, -1.10738640e+05, -3.69128800e+02],\n",
       "       [ 0.00000000e+00,  0.00000000e+00,  0.00000000e+00, ...,\n",
       "        -1.36450140e+05, -1.36450140e+05, -4.54833800e+02]])"
      ]
     },
     "execution_count": 300,
     "metadata": {},
     "output_type": "execute_result"
    }
   ],
   "source": [
    "M2 = np.empty((9))\n",
    "for i in range(len(world_pt)):\n",
    "    a = world_pt[i]\n",
    "    b = -XP2[i]\n",
    "    c = -YP2[i]\n",
    "    row1 = [a[0],a[1],a[2], 0,0,0, b[0],b[1],b[2]]\n",
    "    row2 = [0,0,0, a[0],a[1],a[2],c[0],c[1],c[2]]\n",
    "    d = np.vstack([row1,row2])\n",
    "    #print(M.shape)\n",
    "    M2 = np.vstack([M2,d])\n",
    "M2"
   ]
  },
  {
   "cell_type": "code",
   "execution_count": 301,
   "id": "30de88f6",
   "metadata": {},
   "outputs": [],
   "source": [
    "# for img3\n",
    "x3 = img2[:,0]\n",
    "y3 = img2[:,1]\n",
    "XP3 = []\n",
    "for i in range(len(world_pt)):\n",
    "    a = (x3[i]*world_pt[i])\n",
    "    XP3.append(a)\n",
    "YP3 = []\n",
    "for i in range(len(world_pt)):\n",
    "    a = (y3[i]*world_pt[i])\n",
    "    YP3.append(a)"
   ]
  },
  {
   "cell_type": "code",
   "execution_count": 302,
   "id": "4080f9ab",
   "metadata": {},
   "outputs": [
    {
     "data": {
      "text/plain": [
       "array([[ 3.00000000e+02,  3.00000000e+02,  1.00000000e+00, ...,\n",
       "        -1.10738640e+05, -1.10738640e+05, -3.69128800e+02],\n",
       "       [ 1.00000000e+02,  1.00000000e+02,  1.00000000e+00, ...,\n",
       "        -2.85200400e+04, -2.85200400e+04, -2.85200400e+02],\n",
       "       [ 0.00000000e+00,  0.00000000e+00,  0.00000000e+00, ...,\n",
       "        -8.78261000e+03, -8.78261000e+03, -8.78261000e+01],\n",
       "       ...,\n",
       "       [ 0.00000000e+00,  0.00000000e+00,  0.00000000e+00, ...,\n",
       "        -1.29903990e+05, -1.21243724e+05, -4.33013300e+02],\n",
       "       [ 3.00000000e+02,  3.00000000e+02,  1.00000000e+00, ...,\n",
       "        -1.10738640e+05, -1.10738640e+05, -3.69128800e+02],\n",
       "       [ 0.00000000e+00,  0.00000000e+00,  0.00000000e+00, ...,\n",
       "        -1.36450140e+05, -1.36450140e+05, -4.54833800e+02]])"
      ]
     },
     "execution_count": 302,
     "metadata": {},
     "output_type": "execute_result"
    }
   ],
   "source": [
    "M3 = np.empty((9))\n",
    "for i in range(len(world_pt)):\n",
    "    a = world_pt[i]\n",
    "    b = -XP3[i]\n",
    "    c = -YP3[i]\n",
    "    row1 = [a[0],a[1],a[2], 0,0,0, b[0],b[1],b[2]]\n",
    "    row2 = [0,0,0, a[0],a[1],a[2],c[0],c[1],c[2]]\n",
    "    d = np.vstack([row1,row2])\n",
    "    #print(M.shape)\n",
    "    M3 = np.vstack([M3,d])\n",
    "M3"
   ]
  },
  {
   "cell_type": "code",
   "execution_count": 303,
   "id": "e7d10f12",
   "metadata": {},
   "outputs": [
    {
     "data": {
      "text/plain": [
       "array([[-1.02154651e-03, -7.61895192e-04,  4.95863216e-01,\n",
       "        -5.64013515e-01,  4.33940771e-01,  3.61346711e-01,\n",
       "         3.42211413e-01, -4.43610179e-04, -4.68139181e-03],\n",
       "       [-1.18705681e-03,  1.45295211e-03,  4.45597827e-01,\n",
       "        -2.42752396e-01, -1.41219581e-01, -1.58581028e-02,\n",
       "        -8.49846447e-01,  5.91027527e-03,  6.47806801e-03],\n",
       "       [-5.10193891e-06,  2.33088930e-06,  2.22150157e-03,\n",
       "        -2.93339706e-03, -7.80327501e-04, -1.50528952e-03,\n",
       "         6.92132140e-03, -3.44405022e-01,  9.38786909e-01],\n",
       "       [-9.21841063e-04, -2.89976596e-03, -5.05931636e-01,\n",
       "        -2.36590385e-01, -2.39031144e-01,  7.75344466e-01,\n",
       "        -1.72380946e-01,  4.41500596e-03,  4.39307992e-03],\n",
       "       [-8.86275992e-04, -9.36830937e-04, -5.47060084e-01,\n",
       "        -5.07879391e-01,  4.76640414e-01, -4.12445822e-01,\n",
       "        -2.13235267e-01,  3.22192479e-03,  2.19653972e-03],\n",
       "       [-4.02987037e-06, -8.80412948e-06, -2.50653189e-03,\n",
       "        -2.85934724e-03, -6.29453069e-05,  2.61491810e-03,\n",
       "        -9.68936563e-03, -9.38786496e-01, -3.44332297e-01],\n",
       "       [ 6.63184461e-01,  7.48446460e-01, -1.59627528e-03,\n",
       "        -2.94119292e-03, -7.45006171e-04,  1.51934712e-03,\n",
       "         4.51871736e-04,  4.29509597e-06, -3.60589418e-06],\n",
       "       [ 7.48446745e-01, -6.63186084e-01,  1.59980865e-03,\n",
       "        -1.76101593e-03, -1.67382270e-03, -1.71713619e-03,\n",
       "        -5.27196720e-04,  5.53077972e-06, -1.80294823e-06],\n",
       "       [ 3.12292526e-03, -3.69568040e-04, -1.74461042e-02,\n",
       "         5.55891186e-01,  7.12338750e-01,  3.12877160e-01,\n",
       "        -2.92105501e-01,  3.07358045e-04,  5.13840020e-03]])"
      ]
     },
     "execution_count": 303,
     "metadata": {},
     "output_type": "execute_result"
    }
   ],
   "source": [
    "# for img1\n",
    "u,d,v_t = np.linalg.svd(M)\n",
    "v = np.transpose(v_t)\n",
    "v"
   ]
  },
  {
   "cell_type": "code",
   "execution_count": 304,
   "id": "9aafc98f",
   "metadata": {},
   "outputs": [
    {
     "data": {
      "text/plain": [
       "array([[-1.01664722e-03, -1.03068553e-03,  5.03030996e-01,\n",
       "        -5.50645448e-01,  4.55020797e-01,  2.69393469e-01,\n",
       "         4.05103583e-01, -1.59576030e-03,  4.36865216e-03],\n",
       "       [-1.20488226e-03,  1.16348915e-03,  4.55810271e-01,\n",
       "        -2.07862503e-01, -1.05129204e-01,  1.68379958e-01,\n",
       "        -8.42359702e-01,  6.21048297e-03, -3.86955126e-03],\n",
       "       [-5.19542672e-06,  9.89441568e-07,  2.26421720e-03,\n",
       "        -2.80777175e-03, -7.24520807e-04, -1.60928152e-03,\n",
       "         5.71280068e-03, -7.52195897e-02, -9.97142544e-01],\n",
       "       [-9.29429328e-04, -3.10074964e-03, -4.99150887e-01,\n",
       "        -2.34827108e-01, -1.89656281e-01,  8.11798095e-01,\n",
       "        -2.61699666e-02,  4.37172505e-03, -2.12425824e-03],\n",
       "       [-9.19185391e-04, -1.10627641e-03, -5.38072026e-01,\n",
       "        -4.97818839e-01,  4.82256344e-01, -3.71973375e-01,\n",
       "        -3.02818847e-01,  3.95376225e-03, -1.60326681e-03],\n",
       "       [-4.13879810e-06, -9.51536110e-06, -2.47032706e-03,\n",
       "        -2.90342821e-03,  1.17431478e-04,  2.98572035e-03,\n",
       "        -7.73498041e-03, -9.97128825e-01,  7.51719020e-02],\n",
       "       [ 6.48932057e-01,  7.60835822e-01, -1.53363325e-03,\n",
       "        -3.22729530e-03, -4.61300416e-04,  1.68028893e-03,\n",
       "         4.82651370e-04,  4.70274353e-06,  3.01267849e-06],\n",
       "       [ 7.60837014e-01, -6.48934085e-01,  1.53604208e-03,\n",
       "        -1.66528248e-03, -1.79646596e-03, -1.59152201e-03,\n",
       "        -8.36395015e-04,  5.75625079e-06,  2.21668785e-06],\n",
       "       [ 3.16697006e-03, -3.88113866e-04, -2.25335217e-02,\n",
       "         5.92102948e-01,  7.16490935e-01,  3.18870114e-01,\n",
       "        -1.83966571e-01,  5.08051229e-04, -3.84596136e-03]])"
      ]
     },
     "execution_count": 304,
     "metadata": {},
     "output_type": "execute_result"
    }
   ],
   "source": [
    "# for img2\n",
    "u2,d2,v2_t = np.linalg.svd(M2)\n",
    "v2 = np.transpose(v2_t)\n",
    "v2"
   ]
  },
  {
   "cell_type": "code",
   "execution_count": 305,
   "id": "82733206",
   "metadata": {},
   "outputs": [
    {
     "data": {
      "text/plain": [
       "array([[-1.01702979e-03, -1.03232958e-03,  5.03895005e-01,\n",
       "        -5.52533311e-01,  4.51387240e-01,  2.68042653e-01,\n",
       "         4.06418383e-01, -1.47690600e-03,  4.39047457e-03],\n",
       "       [-1.20591546e-03,  1.16169718e-03,  4.56603690e-01,\n",
       "        -2.05497415e-01, -1.04461621e-01,  1.70858394e-01,\n",
       "        -8.42094439e-01,  6.10491584e-03, -3.99294826e-03],\n",
       "       [-5.20276828e-06,  9.73532073e-07,  2.26829687e-03,\n",
       "        -2.79661898e-03, -7.45262813e-04, -1.62828103e-03,\n",
       "         5.67998593e-03, -9.83582714e-02, -9.95126733e-01],\n",
       "       [-9.32492667e-04, -3.10902831e-03, -4.98335288e-01,\n",
       "        -2.32856067e-01, -1.89059082e-01,  8.13044081e-01,\n",
       "        -2.49289564e-02,  4.35429216e-03, -2.24293359e-03],\n",
       "       [-9.22235953e-04, -1.11340208e-03, -5.37318853e-01,\n",
       "        -5.02199987e-01,  4.78753423e-01, -3.71176126e-01,\n",
       "        -3.03458294e-01,  3.90015250e-03, -1.68219993e-03],\n",
       "       [-4.15248527e-06, -9.54990190e-06, -2.46651528e-03,\n",
       "        -2.91789679e-03,  9.83784152e-05,  3.03981356e-03,\n",
       "        -7.70120419e-03, -9.95114000e-01,  9.83105863e-02],\n",
       "       [ 6.48722664e-01,  7.61014305e-01, -1.53452750e-03,\n",
       "        -3.23413065e-03, -4.80168439e-04,  1.69035445e-03,\n",
       "         4.80572635e-04,  4.94912598e-06,  2.79152714e-06],\n",
       "       [ 7.61015539e-01, -6.48724719e-01,  1.53982521e-03,\n",
       "        -1.65109935e-03, -1.80901600e-03, -1.58348900e-03,\n",
       "        -8.43739307e-04,  5.79535966e-06,  2.09364606e-06],\n",
       "       [ 3.16964789e-03, -3.81975594e-04, -2.31803888e-02,\n",
       "         5.88235886e-01,  7.21377214e-01,  3.16434661e-01,\n",
       "        -1.81383988e-01,  3.95078857e-04, -3.83835176e-03]])"
      ]
     },
     "execution_count": 305,
     "metadata": {},
     "output_type": "execute_result"
    }
   ],
   "source": [
    "# for img3\n",
    "u3,d3,v3_t = np.linalg.svd(M3)\n",
    "v3 = np.transpose(v3_t)\n",
    "v3"
   ]
  },
  {
   "cell_type": "code",
   "execution_count": 313,
   "id": "7103391e",
   "metadata": {},
   "outputs": [
    {
     "data": {
      "text/plain": [
       "array([[-4.68139181e-03,  4.39307992e-03, -3.60589418e-06],\n",
       "       [ 6.47806801e-03,  2.19653972e-03, -1.80294823e-06],\n",
       "       [ 9.38786909e-01, -3.44332297e-01,  5.13840020e-03]])"
      ]
     },
     "execution_count": 313,
     "metadata": {},
     "output_type": "execute_result"
    }
   ],
   "source": [
    "# for img1\n",
    "lcol = v[:,-1]\n",
    "h_11 = np.transpose([np.array(lcol[0:3])])\n",
    "h_12 = np.transpose([np.array(lcol[3:6])])\n",
    "h_13 = np.transpose([np.array(lcol[6:9])])\n",
    "H_img1 = np.hstack([h_11,h_12,h_13])\n",
    "H_img1"
   ]
  },
  {
   "cell_type": "code",
   "execution_count": 314,
   "id": "64d3d40f",
   "metadata": {},
   "outputs": [
    {
     "data": {
      "text/plain": [
       "array([[ 4.36865216e-03, -2.12425824e-03,  3.01267849e-06],\n",
       "       [-3.86955126e-03, -1.60326681e-03,  2.21668785e-06],\n",
       "       [-9.97142544e-01,  7.51719020e-02, -3.84596136e-03]])"
      ]
     },
     "execution_count": 314,
     "metadata": {},
     "output_type": "execute_result"
    }
   ],
   "source": [
    "# for img2\n",
    "lcol2 = v2[:,-1]\n",
    "h_21 = np.transpose([np.array(lcol2[0:3])])\n",
    "h_22 = np.transpose([np.array(lcol2[3:6])])\n",
    "h_23 = np.transpose([np.array(lcol2[6:9])])\n",
    "H_img2 = np.hstack([h_21,h_22,h_23])\n",
    "H_img2"
   ]
  },
  {
   "cell_type": "code",
   "execution_count": 315,
   "id": "9ceb3be3",
   "metadata": {},
   "outputs": [
    {
     "data": {
      "text/plain": [
       "array([[ 4.39047457e-03, -2.24293359e-03,  2.79152714e-06],\n",
       "       [-3.99294826e-03, -1.68219993e-03,  2.09364606e-06],\n",
       "       [-9.95126733e-01,  9.83105863e-02, -3.83835176e-03]])"
      ]
     },
     "execution_count": 315,
     "metadata": {},
     "output_type": "execute_result"
    }
   ],
   "source": [
    "# for img3\n",
    "lcol3 = v3[:,-1]\n",
    "h_31 = np.transpose([np.array(lcol3[0:3])])\n",
    "h_32 = np.transpose([np.array(lcol3[3:6])])\n",
    "h_33 = np.transpose([np.array(lcol3[6:9])])\n",
    "H_img3 = np.hstack([h_31,h_32,h_33])\n",
    "H_img3"
   ]
  },
  {
   "cell_type": "code",
   "execution_count": 354,
   "id": "bb154437",
   "metadata": {},
   "outputs": [],
   "source": [
    "#Vij for img1\n",
    "def fnvij(h,i,j):\n",
    "    h=h.T\n",
    "    a = np.array([h[i-1][0]*h[j-1][0], h[i-1][0]*h[j-1][1] + h[i-1][1]*h[j-1][0], h[i-1][1]*h[j-1][1], h[i-1][2]*h[j-1][0]+ h[i-1][0]*h[j-1][2], \n",
    "     h[i-1][2]*h[j-1][1]+ h[i-1][1]*h[j-1][2], h[i-1][2]*h[j-1][2]])\n",
    "    #vij = np.transpose(a)\n",
    "    return a"
   ]
  },
  {
   "cell_type": "code",
   "execution_count": 441,
   "id": "55bec06a",
   "metadata": {},
   "outputs": [],
   "source": [
    "# for H_img1\n",
    "Tv12_1 = fnvij(H_img1,1,2)\n",
    "Tv11_1 = fnvij(H_img1,1,1)\n",
    "Tv22_1 =fnvij(H_img1,2,2)\n",
    "d_1 = Tv11_1 - Tv22_1"
   ]
  },
  {
   "cell_type": "code",
   "execution_count": 442,
   "id": "08be3e24",
   "metadata": {},
   "outputs": [],
   "source": [
    "# for H_img2\n",
    "Tv12_2 = fnvij(H_img2,1,2)\n",
    "Tv11_2 = fnvij(H_img2,1,1)\n",
    "Tv22_2 =fnvij(H_img2,2,2)\n",
    "d_2 = Tv11_2 - Tv22_2"
   ]
  },
  {
   "cell_type": "code",
   "execution_count": 443,
   "id": "b562d6cf",
   "metadata": {},
   "outputs": [],
   "source": [
    "# for H_img3\n",
    "Tv12_3 = fnvij(H_img3,1,2)\n",
    "Tv11_3 = fnvij(H_img3,1,1)\n",
    "Tv22_3 =fnvij(H_img3,2,2)\n",
    "d_3 = Tv11_3 - Tv22_3"
   ]
  },
  {
   "cell_type": "code",
   "execution_count": 444,
   "id": "66df7292",
   "metadata": {},
   "outputs": [],
   "source": [
    "V = np.vstack([Tv12_1,d_1,Tv12_2,d_2,Tv12_3,d_3])"
   ]
  },
  {
   "cell_type": "code",
   "execution_count": 445,
   "id": "259ad245",
   "metadata": {},
   "outputs": [
    {
     "data": {
      "text/plain": [
       "array([[-2.05657283e-05,  1.81758074e-05,  1.42293337e-05,\n",
       "         5.73612031e-03, -1.68525305e-04, -3.23254653e-01],\n",
       "       [ 2.61627814e-06, -7.99518981e-05,  3.71405784e-05,\n",
       "        -5.76430010e-03,  1.36757300e-02,  7.62756131e-01],\n",
       "       [-9.28014532e-06,  1.21581111e-06,  6.20392312e-06,\n",
       "         2.44658815e-03,  1.30780402e-03, -7.49571016e-02],\n",
       "       [ 1.45726486e-05, -4.06209524e-05,  1.24029625e-05,\n",
       "        -8.39296878e-03,  7.95802960e-03,  9.88642437e-01],\n",
       "       [-9.84754289e-06,  1.57026177e-06,  6.71693727e-06,\n",
       "         2.66363330e-03,  1.28145303e-03, -9.78314926e-02],\n",
       "       [ 1.42455159e-05, -4.26080010e-05,  1.31138392e-05,\n",
       "        -8.29714901e-03,  8.27773524e-03,  9.80612244e-01]])"
      ]
     },
     "execution_count": 445,
     "metadata": {},
     "output_type": "execute_result"
    }
   ],
   "source": [
    "V"
   ]
  },
  {
   "cell_type": "code",
   "execution_count": 446,
   "id": "a0582715",
   "metadata": {},
   "outputs": [
    {
     "data": {
      "text/plain": [
       "(6, 6)"
      ]
     },
     "execution_count": 446,
     "metadata": {},
     "output_type": "execute_result"
    }
   ],
   "source": [
    "V.shape"
   ]
  },
  {
   "cell_type": "code",
   "execution_count": 447,
   "id": "0bbeb62f",
   "metadata": {},
   "outputs": [
    {
     "data": {
      "text/plain": [
       "array([[ 1.46468842e-05,  2.25591130e-03,  3.70893718e-03,\n",
       "         2.93223419e-01, -1.52709116e-01, -9.43759030e-01],\n",
       "       [-5.64420570e-05,  4.03533273e-03, -9.23121161e-03,\n",
       "        -2.61124929e-01, -9.62368254e-01,  7.45628099e-02],\n",
       "       [ 1.80748188e-05, -3.95863957e-03, -6.30836447e-04,\n",
       "        -9.19677450e-01,  2.24575666e-01, -3.22091740e-01],\n",
       "       [-8.75850729e-03, -3.67192051e-01, -9.30064698e-01,\n",
       "         4.98612300e-03,  5.72629805e-03, -3.91036513e-03],\n",
       "       [ 9.93955656e-03, -9.30105692e-01,  3.67071028e-01,\n",
       "         1.52426152e-03, -7.76170981e-03,  9.48956260e-04],\n",
       "       [ 9.99912241e-01,  6.02957929e-03, -1.17961008e-02,\n",
       "         2.61125683e-05,  7.11675268e-05, -1.98295487e-05]])"
      ]
     },
     "execution_count": 447,
     "metadata": {},
     "output_type": "execute_result"
    }
   ],
   "source": [
    "## SVD\n",
    "u,d,v_t = np.linalg.svd(V)\n",
    "v = np.transpose(v_t)\n",
    "v"
   ]
  },
  {
   "cell_type": "code",
   "execution_count": 448,
   "id": "69951408",
   "metadata": {},
   "outputs": [],
   "source": [
    "lcol = v[:,-1]"
   ]
  },
  {
   "cell_type": "code",
   "execution_count": 449,
   "id": "aef25b8f",
   "metadata": {},
   "outputs": [
    {
     "data": {
      "text/plain": [
       "array([-9.43759030e-01,  7.45628099e-02, -3.22091740e-01, -3.91036513e-03,\n",
       "        9.48956260e-04, -1.98295487e-05])"
      ]
     },
     "execution_count": 449,
     "metadata": {},
     "output_type": "execute_result"
    }
   ],
   "source": [
    "lcol"
   ]
  },
  {
   "cell_type": "code",
   "execution_count": 450,
   "id": "c23eca27",
   "metadata": {},
   "outputs": [],
   "source": [
    "s11 = lcol[0]\n",
    "s12 = lcol[1]\n",
    "s22 = lcol[2]\n",
    "s13 = lcol[3]\n",
    "s23= lcol[4]\n",
    "s33 = lcol[5]"
   ]
  },
  {
   "cell_type": "code",
   "execution_count": 451,
   "id": "bf428bd6",
   "metadata": {},
   "outputs": [
    {
     "name": "stderr",
     "output_type": "stream",
     "text": [
      "/var/folders/t9/xrpzmpls0hx9zn2fc6byfjh80000gn/T/ipykernel_60366/2190177057.py:6: RuntimeWarning: invalid value encountered in sqrt\n",
      "  au =np.sqrt(lambdha/s11)\n"
     ]
    }
   ],
   "source": [
    "#parameters\n",
    "c1 = s11*s13 -s11*s23\n",
    "c2 = s11*s22 -s12*s12\n",
    "v_ =c1/c2\n",
    "lambdha = s33 - (s13*s13 + v_*c1)/s11\n",
    "au =np.sqrt(lambdha/s11)\n",
    "av = np.sqrt(lambdha/c2)\n",
    "s = -(s12*(au*au)*av)/lambdha\n",
    "u0 = (s*v_/au) - (s13*(au*au)/lambdha)"
   ]
  },
  {
   "cell_type": "code",
   "execution_count": 452,
   "id": "8d9d9de8",
   "metadata": {},
   "outputs": [
    {
     "data": {
      "text/plain": [
       "(0.004586028438236496,\n",
       " 0.2984173751743656,\n",
       " 0.015367833175118823,\n",
       " 7.104987356080968e-05,\n",
       " nan,\n",
       " 0.01543013059052545,\n",
       " nan,\n",
       " nan)"
      ]
     },
     "execution_count": 452,
     "metadata": {},
     "output_type": "execute_result"
    }
   ],
   "source": [
    "c1,c2,v_,lambdha,au,av,s,u0"
   ]
  },
  {
   "cell_type": "code",
   "execution_count": 453,
   "id": "29686b45",
   "metadata": {},
   "outputs": [],
   "source": [
    "K_star = [[au, s, u0], [0, av, v_], [0, 0, 1]]\n",
    "\n",
    "#K_star_inv = np.linalg.inv(K_star)\n",
    "\n",
    "# T_star = alpha * K_star_inv* h3\n",
    "\n",
    "# r1 = alpha* K_star_inv* h1\n",
    "# r2 = alpha* K_star_inv* h2\n",
    "# r3 = np.cross(r1, r2)"
   ]
  },
  {
   "cell_type": "code",
   "execution_count": 454,
   "id": "398015d2",
   "metadata": {},
   "outputs": [
    {
     "data": {
      "text/plain": [
       "[[nan, nan, nan], [0, 0.01543013059052545, 0.015367833175118823], [0, 0, 1]]"
      ]
     },
     "execution_count": 454,
     "metadata": {},
     "output_type": "execute_result"
    }
   ],
   "source": [
    "K_star"
   ]
  },
  {
   "cell_type": "code",
   "execution_count": null,
   "id": "f58f36a9",
   "metadata": {},
   "outputs": [],
   "source": []
  }
 ],
 "metadata": {
  "kernelspec": {
   "display_name": "Python 3 (ipykernel)",
   "language": "python",
   "name": "python3"
  },
  "language_info": {
   "codemirror_mode": {
    "name": "ipython",
    "version": 3
   },
   "file_extension": ".py",
   "mimetype": "text/x-python",
   "name": "python",
   "nbconvert_exporter": "python",
   "pygments_lexer": "ipython3",
   "version": "3.8.13"
  }
 },
 "nbformat": 4,
 "nbformat_minor": 5
}
