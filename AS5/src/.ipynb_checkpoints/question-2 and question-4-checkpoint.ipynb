{
 "cells": [
  {
   "cell_type": "code",
   "execution_count": 27,
   "id": "f37666d9",
   "metadata": {},
   "outputs": [],
   "source": [
    "import numpy as np\n",
    "import pandas as pd"
   ]
  },
  {
   "cell_type": "code",
   "execution_count": 55,
   "id": "0c89e27d",
   "metadata": {},
   "outputs": [
    {
     "name": "stdout",
     "output_type": "stream",
     "text": [
      "[[100. 100.   1.]\n",
      " [100. 120.   1.]\n",
      " [100. 140.   1.]\n",
      " [100. 160.   1.]\n",
      " [100. 180.   1.]\n",
      " [100. 200.   1.]\n",
      " [100. 220.   1.]\n",
      " [100. 240.   1.]\n",
      " [100. 260.   1.]\n",
      " [100. 280.   1.]\n",
      " [100. 300.   1.]\n",
      " [120. 100.   1.]\n",
      " [120. 120.   1.]\n",
      " [120. 140.   1.]\n",
      " [120. 160.   1.]\n",
      " [120. 180.   1.]\n",
      " [120. 200.   1.]\n",
      " [120. 220.   1.]\n",
      " [120. 240.   1.]\n",
      " [120. 260.   1.]\n",
      " [120. 280.   1.]\n",
      " [120. 300.   1.]\n",
      " [140. 100.   1.]\n",
      " [140. 120.   1.]\n",
      " [140. 140.   1.]\n",
      " [140. 160.   1.]\n",
      " [140. 180.   1.]\n",
      " [140. 200.   1.]\n",
      " [140. 220.   1.]\n",
      " [140. 240.   1.]\n",
      " [140. 260.   1.]\n",
      " [140. 280.   1.]\n",
      " [140. 300.   1.]\n",
      " [160. 100.   1.]\n",
      " [160. 120.   1.]\n",
      " [160. 140.   1.]\n",
      " [160. 160.   1.]\n",
      " [160. 180.   1.]\n",
      " [160. 200.   1.]\n",
      " [160. 220.   1.]\n",
      " [160. 240.   1.]\n",
      " [160. 260.   1.]\n",
      " [160. 280.   1.]\n",
      " [160. 300.   1.]\n",
      " [180. 100.   1.]\n",
      " [180. 120.   1.]\n",
      " [180. 140.   1.]\n",
      " [180. 160.   1.]\n",
      " [180. 180.   1.]\n",
      " [180. 200.   1.]\n",
      " [180. 220.   1.]\n",
      " [180. 240.   1.]\n",
      " [180. 260.   1.]\n",
      " [180. 280.   1.]\n",
      " [180. 300.   1.]\n",
      " [200. 100.   1.]\n",
      " [200. 120.   1.]\n",
      " [200. 140.   1.]\n",
      " [200. 160.   1.]\n",
      " [200. 180.   1.]\n",
      " [200. 200.   1.]\n",
      " [200. 220.   1.]\n",
      " [200. 240.   1.]\n",
      " [200. 260.   1.]\n",
      " [200. 280.   1.]\n",
      " [200. 300.   1.]\n",
      " [220. 100.   1.]\n",
      " [220. 120.   1.]\n",
      " [220. 140.   1.]\n",
      " [220. 160.   1.]\n",
      " [220. 180.   1.]\n",
      " [220. 200.   1.]\n",
      " [220. 220.   1.]\n",
      " [220. 240.   1.]\n",
      " [220. 260.   1.]\n",
      " [220. 280.   1.]\n",
      " [220. 300.   1.]\n",
      " [240. 100.   1.]\n",
      " [240. 120.   1.]\n",
      " [240. 140.   1.]\n",
      " [240. 160.   1.]\n",
      " [240. 180.   1.]\n",
      " [240. 200.   1.]\n",
      " [240. 220.   1.]\n",
      " [240. 240.   1.]\n",
      " [240. 260.   1.]\n",
      " [240. 280.   1.]\n",
      " [240. 300.   1.]\n",
      " [260. 100.   1.]\n",
      " [260. 120.   1.]\n",
      " [260. 140.   1.]\n",
      " [260. 160.   1.]\n",
      " [260. 180.   1.]\n",
      " [260. 200.   1.]\n",
      " [260. 220.   1.]\n",
      " [260. 240.   1.]\n",
      " [260. 260.   1.]\n",
      " [260. 280.   1.]\n",
      " [260. 300.   1.]\n",
      " [280. 100.   1.]\n",
      " [280. 120.   1.]\n",
      " [280. 140.   1.]\n",
      " [280. 160.   1.]\n",
      " [280. 180.   1.]\n",
      " [280. 200.   1.]\n",
      " [280. 220.   1.]\n",
      " [280. 240.   1.]\n",
      " [280. 260.   1.]\n",
      " [280. 280.   1.]\n",
      " [280. 300.   1.]\n",
      " [300. 100.   1.]\n",
      " [300. 120.   1.]\n",
      " [300. 140.   1.]\n",
      " [300. 160.   1.]\n",
      " [300. 180.   1.]\n",
      " [300. 200.   1.]\n",
      " [300. 220.   1.]\n",
      " [300. 240.   1.]\n",
      " [300. 260.   1.]\n",
      " [300. 280.   1.]\n",
      " [300. 300.   1.]]\n"
     ]
    }
   ],
   "source": [
    "world_pt = np.loadtxt(\"world_points.txt\")\n",
    "world_pt[:, 2] =1 ## for planar caliberation\n",
    "print(world_pt)"
   ]
  },
  {
   "cell_type": "code",
   "execution_count": 56,
   "id": "6ce5cc32",
   "metadata": {},
   "outputs": [
    {
     "data": {
      "text/plain": [
       "((121, 3), (121, 2))"
      ]
     },
     "execution_count": 56,
     "metadata": {},
     "output_type": "execute_result"
    }
   ],
   "source": [
    "world_pt.shape, img1.shape"
   ]
  },
  {
   "cell_type": "code",
   "execution_count": 58,
   "id": "2a523db8",
   "metadata": {},
   "outputs": [],
   "source": [
    "img1 = np.loadtxt(\"image1.txt\")\n",
    "img2 = np.loadtxt(\"image2.txt\")\n",
    "img3 = np.loadtxt(\"image3.txt\")"
   ]
  },
  {
   "cell_type": "code",
   "execution_count": 34,
   "id": "34139561",
   "metadata": {},
   "outputs": [],
   "source": [
    "## Projection matrix for image 1\n",
    "M1 = []\n",
    "#M1 = np.concatenate((world_pt, img1))"
   ]
  },
  {
   "cell_type": "code",
   "execution_count": 36,
   "id": "7b18a4c5",
   "metadata": {},
   "outputs": [
    {
     "data": {
      "text/plain": [
       "array([243.2737,  68.4347])"
      ]
     },
     "execution_count": 36,
     "metadata": {},
     "output_type": "execute_result"
    }
   ],
   "source": [
    "img1[0]"
   ]
  },
  {
   "cell_type": "code",
   "execution_count": 64,
   "id": "7f87608b",
   "metadata": {},
   "outputs": [],
   "source": [
    "x = img1[:,0]\n",
    "y= img1[:,1]"
   ]
  },
  {
   "cell_type": "code",
   "execution_count": 126,
   "id": "8304bbcf",
   "metadata": {
    "scrolled": false
   },
   "outputs": [],
   "source": [
    "XP = []\n",
    "for i in range(len(world_pt)):\n",
    "    a = (x[i]*world_pt[i])\n",
    "    XP.append(a)"
   ]
  },
  {
   "cell_type": "code",
   "execution_count": 127,
   "id": "f4ce70f5",
   "metadata": {},
   "outputs": [],
   "source": [
    "YP = []\n",
    "for i in range(len(world_pt)):\n",
    "    a = (y[i]*world_pt[i])\n",
    "    YP.append(a)"
   ]
  },
  {
   "cell_type": "code",
   "execution_count": 122,
   "id": "7670e8e1",
   "metadata": {},
   "outputs": [],
   "source": [
    "M = np.empty((9))\n",
    "for i in range(len(world_pt)):\n",
    "    a = world_pt[i]\n",
    "    b = -XP[i]\n",
    "    c = -YP[i]\n",
    "    row1 = [a[0],a[1],a[2], 0,0,0, b[0],b[1],b[2]]\n",
    "    row2 = [0,0,0, a[0],a[1],a[2],c[0],c[1],c[2]]\n",
    "    d = np.vstack([row1,row2])\n",
    "    #print(M.shape)\n",
    "    M = np.vstack([M,d])"
   ]
  },
  {
   "cell_type": "code",
   "execution_count": 124,
   "id": "f2545f6d",
   "metadata": {},
   "outputs": [
    {
     "data": {
      "text/plain": [
       "(243, 9)"
      ]
     },
     "execution_count": 124,
     "metadata": {},
     "output_type": "execute_result"
    }
   ],
   "source": [
    "M.shape"
   ]
  },
  {
   "cell_type": "code",
   "execution_count": 125,
   "id": "eaa11777",
   "metadata": {},
   "outputs": [],
   "source": [
    "x2 = img1[:,0]\n",
    "y2 = img1[:,1]"
   ]
  },
  {
   "cell_type": "code",
   "execution_count": 128,
   "id": "a817c6b3",
   "metadata": {},
   "outputs": [],
   "source": [
    "XP2 = []\n",
    "for i in range(len(world_pt)):\n",
    "    a = (x[i]*world_pt[i])\n",
    "    XP2.append(a)"
   ]
  },
  {
   "cell_type": "code",
   "execution_count": 129,
   "id": "1aa9c426",
   "metadata": {},
   "outputs": [],
   "source": [
    "YP2 = []\n",
    "for i in range(len(world_pt)):\n",
    "    a = (y[i]*world_pt[i])\n",
    "    YP2.append(a)"
   ]
  },
  {
   "cell_type": "code",
   "execution_count": 130,
   "id": "67e0f90f",
   "metadata": {},
   "outputs": [],
   "source": [
    "M2 = np.empty((9))\n",
    "for i in range(len(world_pt)):\n",
    "    a = world_pt[i]\n",
    "    b = -XP[i]\n",
    "    c = -YP[i]\n",
    "    row1 = [a[0],a[1],a[2], 0,0,0, b[0],b[1],b[2]]\n",
    "    row2 = [0,0,0, a[0],a[1],a[2],c[0],c[1],c[2]]\n",
    "    d = np.vstack([row1,row2])\n",
    "    #print(M.shape)\n",
    "    M2 = np.vstack([M2,d])"
   ]
  },
  {
   "cell_type": "code",
   "execution_count": null,
   "id": "70cd0c35",
   "metadata": {},
   "outputs": [],
   "source": [
    "x3 = img1[:,0]\n",
    "y3 = img1[:,1]"
   ]
  },
  {
   "cell_type": "code",
   "execution_count": 131,
   "id": "5a309360",
   "metadata": {},
   "outputs": [],
   "source": [
    "XP3 = []\n",
    "for i in range(len(world_pt)):\n",
    "    a = (x[i]*world_pt[i])\n",
    "    XP3.append(a)"
   ]
  },
  {
   "cell_type": "code",
   "execution_count": 132,
   "id": "1ce369da",
   "metadata": {},
   "outputs": [],
   "source": [
    "YP3 = []\n",
    "for i in range(len(world_pt)):\n",
    "    a = (y[i]*world_pt[i])\n",
    "    YP3.append(a)"
   ]
  },
  {
   "cell_type": "code",
   "execution_count": 133,
   "id": "1b13675f",
   "metadata": {},
   "outputs": [],
   "source": [
    "M3 = np.empty((9))\n",
    "for i in range(len(world_pt)):\n",
    "    a = world_pt[i]\n",
    "    b = -XP[i]\n",
    "    c = -YP[i]\n",
    "    row1 = [a[0],a[1],a[2], 0,0,0, b[0],b[1],b[2]]\n",
    "    row2 = [0,0,0, a[0],a[1],a[2],c[0],c[1],c[2]]\n",
    "    d = np.vstack([row1,row2])\n",
    "    #print(M.shape)\n",
    "    M3 = np.vstack([M3,d])"
   ]
  },
  {
   "cell_type": "code",
   "execution_count": 148,
   "id": "6abc55eb",
   "metadata": {},
   "outputs": [
    {
     "data": {
      "text/plain": [
       "(243, 9)"
      ]
     },
     "execution_count": 148,
     "metadata": {},
     "output_type": "execute_result"
    }
   ],
   "source": [
    "M.shape"
   ]
  },
  {
   "cell_type": "code",
   "execution_count": 136,
   "id": "fd7869dd",
   "metadata": {},
   "outputs": [
    {
     "data": {
      "text/plain": [
       "(243, 9)"
      ]
     },
     "execution_count": 136,
     "metadata": {},
     "output_type": "execute_result"
    }
   ],
   "source": [
    "M3.shape"
   ]
  },
  {
   "cell_type": "code",
   "execution_count": 149,
   "id": "c589a364",
   "metadata": {},
   "outputs": [],
   "source": [
    "u,v,d = np.linalg.svd(M)"
   ]
  },
  {
   "cell_type": "code",
   "execution_count": 145,
   "id": "94ca6313",
   "metadata": {},
   "outputs": [],
   "source": [
    "u1,v1,d1 = np.linalg.svd(M2)"
   ]
  },
  {
   "cell_type": "code",
   "execution_count": 146,
   "id": "6fabc7cc",
   "metadata": {},
   "outputs": [],
   "source": [
    "u2,v2,d2 = np.linalg.svd(M3)"
   ]
  },
  {
   "cell_type": "code",
   "execution_count": 153,
   "id": "e06e852d",
   "metadata": {},
   "outputs": [
    {
     "data": {
      "text/plain": [
       "array([[-9.94691117e-04, -1.15967174e-03, -5.00712548e-06,\n",
       "        -9.45182942e-04, -9.09713249e-04, -4.10470426e-06,\n",
       "         6.63330224e-01,  7.48317594e-01,  3.12056214e-03],\n",
       "       [-7.19825327e-04,  1.49520589e-03,  2.47820007e-06,\n",
       "        -2.93490202e-03, -9.72715582e-04, -8.91671909e-06,\n",
       "         7.48317117e-01, -6.63331771e-01, -3.73730906e-04],\n",
       "       [ 4.99291465e-01,  4.49170409e-01,  2.25113674e-03,\n",
       "        -5.01737155e-01, -5.44485882e-01, -2.47867584e-03,\n",
       "        -1.65166382e-03,  1.64103670e-03, -2.70609616e-02],\n",
       "       [-5.56118805e-01, -2.42902626e-01, -2.87015590e-03,\n",
       "        -2.44064668e-01, -5.13055174e-01, -2.92689226e-03,\n",
       "        -2.94876913e-03, -1.75150921e-03,  5.55795329e-01],\n",
       "       [ 4.40113077e-01, -1.43122743e-01, -7.14783524e-04,\n",
       "        -2.42711279e-01,  4.73940706e-01, -1.22143900e-04,\n",
       "        -7.45576575e-04, -1.66172824e-03,  7.08719944e-01],\n",
       "       [ 3.59103161e-01, -1.17081193e-02, -1.55110673e-03,\n",
       "         7.76086227e-01, -4.11220356e-01,  2.65360286e-03,\n",
       "         1.51341690e-03, -1.71727490e-03,  3.15406309e-01],\n",
       "       [ 3.44618238e-01, -8.47670030e-01,  6.99667845e-03,\n",
       "        -1.65607175e-01, -2.15802627e-01, -9.48743946e-03,\n",
       "         4.87240612e-04, -5.18022820e-04, -2.97586642e-01],\n",
       "       [-3.92315896e-04,  5.74742594e-03, -3.44403778e-01,\n",
       "         4.37330102e-03,  3.18841201e-03, -9.38788310e-01,\n",
       "         4.31981935e-06,  5.41498987e-06,  2.60685161e-04],\n",
       "       [-4.68139186e-03,  6.47806816e-03,  9.38786910e-01,\n",
       "         4.39307994e-03,  2.19653975e-03, -3.44332296e-01,\n",
       "        -3.60589431e-06, -1.80294816e-06,  5.13840027e-03]])"
      ]
     },
     "execution_count": 153,
     "metadata": {},
     "output_type": "execute_result"
    }
   ],
   "source": [
    "d"
   ]
  },
  {
   "cell_type": "code",
   "execution_count": 171,
   "id": "705465a7",
   "metadata": {},
   "outputs": [
    {
     "data": {
      "text/plain": [
       "array([ 3.12056214e-03, -3.73730906e-04, -2.70609616e-02,  5.55795329e-01,\n",
       "        7.08719944e-01,  3.15406309e-01, -2.97586642e-01,  2.60685161e-04,\n",
       "        5.13840027e-03])"
      ]
     },
     "execution_count": 171,
     "metadata": {},
     "output_type": "execute_result"
    }
   ],
   "source": [
    "d[:,-1]"
   ]
  },
  {
   "cell_type": "code",
   "execution_count": 172,
   "id": "63a24d22",
   "metadata": {},
   "outputs": [
    {
     "data": {
      "text/plain": [
       "(array([ 0.00312056, -0.00037373, -0.02706096]),\n",
       " array([0.55579533, 0.70871994, 0.31540631]),\n",
       " array([-2.97586642e-01,  2.60685161e-04,  5.13840027e-03]))"
      ]
     },
     "execution_count": 172,
     "metadata": {},
     "output_type": "execute_result"
    }
   ],
   "source": [
    "lcol = d[:,-1]\n",
    "h1 = np.array(lcol[0:3]).T\n",
    "h2 = lcol[3:6].T\n",
    "h3 = lcol[6:9].T\n",
    "h1, h2, h3"
   ]
  },
  {
   "cell_type": "code",
   "execution_count": 174,
   "id": "2680cefc",
   "metadata": {},
   "outputs": [
    {
     "data": {
      "text/plain": [
       "((9,), (3,))"
      ]
     },
     "execution_count": 174,
     "metadata": {},
     "output_type": "execute_result"
    }
   ],
   "source": [
    "lcol.shape,h1.shape"
   ]
  },
  {
   "cell_type": "code",
   "execution_count": null,
   "id": "a8e363ae",
   "metadata": {},
   "outputs": [],
   "source": [
    "h =h1h2h3\n",
    "v\n",
    "svd\n",
    "s1,s2,s3 (6)\n"
   ]
  }
 ],
 "metadata": {
  "kernelspec": {
   "display_name": "Python 3 (ipykernel)",
   "language": "python",
   "name": "python3"
  },
  "language_info": {
   "codemirror_mode": {
    "name": "ipython",
    "version": 3
   },
   "file_extension": ".py",
   "mimetype": "text/x-python",
   "name": "python",
   "nbconvert_exporter": "python",
   "pygments_lexer": "ipython3",
   "version": "3.8.13"
  }
 },
 "nbformat": 4,
 "nbformat_minor": 5
}
