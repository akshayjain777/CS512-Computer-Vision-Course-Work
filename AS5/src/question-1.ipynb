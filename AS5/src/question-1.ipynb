{
 "cells": [
  {
   "cell_type": "code",
   "execution_count": 1,
   "id": "94ef9d3c",
   "metadata": {},
   "outputs": [],
   "source": [
    "import numpy as np\n",
    "import cv2\n",
    "import glob\n",
    "import csv"
   ]
  },
  {
   "cell_type": "code",
   "execution_count": 2,
   "id": "58bbd568",
   "metadata": {},
   "outputs": [],
   "source": [
    "# termination criteria\n",
    "criteria = (cv2.TERM_CRITERIA_EPS + cv2.TERM_CRITERIA_MAX_ITER, 30, 0.001)\n",
    "\n",
    "# prepare object points, like (0,0,0), (1,0,0), (2,0,0) ....,(6,5,0)\n",
    "objp = np.zeros((6*7,3), np.float32)\n",
    "objp[:,:2] = np.mgrid[0:7,0:6].T.reshape(-1,2)\n",
    "\n",
    "# Arrays to store object points and image points from all the images.\n",
    "objpoints = [] # 3d point in real world space\n",
    "imgpoints = [] # 2d points in image plane.\n",
    "\n",
    "images = glob.glob('*cap0.jpg')"
   ]
  },
  {
   "cell_type": "code",
   "execution_count": 3,
   "id": "f771b034",
   "metadata": {},
   "outputs": [
    {
     "data": {
      "text/plain": [
       "['cap0.jpg']"
      ]
     },
     "execution_count": 3,
     "metadata": {},
     "output_type": "execute_result"
    }
   ],
   "source": [
    "images"
   ]
  },
  {
   "cell_type": "code",
   "execution_count": 10,
   "id": "59b0373a",
   "metadata": {},
   "outputs": [],
   "source": [
    "for fname in images:\n",
    "    img = cv2.imread(fname)\n",
    "    gray = cv2.cvtColor(img,cv2.COLOR_BGR2GRAY)\n",
    "\n",
    "    # Find the chess board corners\n",
    "    ret, corners = cv2.findChessboardCorners(gray, (7,6),None)\n",
    "    #print(\"chessboard corners\", corners)\n",
    "\n",
    "    # If found, add object points, image points (after refining them)\n",
    "    if ret == True:\n",
    "        objpoints.append(objp)\n",
    "\n",
    "        corners2 = cv2.cornerSubPix(gray,corners,(11,11),(-1,-1),criteria)\n",
    "        imgpoints.append(corners2)\n",
    "\n",
    "        # Draw and display the corners\n",
    "        img = cv2.drawChessboardCorners(img, (7,6), corners2,ret)\n",
    "        \n",
    "        #cv2.imshow('img',img)\n",
    "        cv2.waitKey(500)\n",
    "\n",
    "cv2.destroyAllWindows()"
   ]
  },
  {
   "cell_type": "code",
   "execution_count": 11,
   "id": "953cdc12",
   "metadata": {},
   "outputs": [
    {
     "data": {
      "text/plain": [
       "(42, 1, 2)"
      ]
     },
     "execution_count": 11,
     "metadata": {},
     "output_type": "execute_result"
    }
   ],
   "source": [
    "corners.shape"
   ]
  },
  {
   "cell_type": "code",
   "execution_count": 12,
   "id": "50398d01",
   "metadata": {},
   "outputs": [
    {
     "data": {
      "text/plain": [
       "[array([[[1217.9694 ,  765.3534 ]],\n",
       " \n",
       "        [[1080.5355 ,  768.6397 ]],\n",
       " \n",
       "        [[ 942.27893,  771.5683 ]],\n",
       " \n",
       "        [[ 801.6669 ,  775.3304 ]],\n",
       " \n",
       "        [[ 658.71326,  778.0233 ]],\n",
       " \n",
       "        [[ 513.3445 ,  781.6069 ]],\n",
       " \n",
       "        [[ 363.07413,  785.0742 ]],\n",
       " \n",
       "        [[1197.0835 ,  648.06903]],\n",
       " \n",
       "        [[1066.5403 ,  649.89905]],\n",
       " \n",
       "        [[ 934.9377 ,  651.86017]],\n",
       " \n",
       "        [[ 801.0598 ,  653.84204]],\n",
       " \n",
       "        [[ 665.4479 ,  656.48315]],\n",
       " \n",
       "        [[ 527.5029 ,  658.5058 ]],\n",
       " \n",
       "        [[ 385.12537,  660.25433]],\n",
       " \n",
       "        [[1178.7012 ,  540.5856 ]],\n",
       " \n",
       "        [[1053.9257 ,  542.03094]],\n",
       " \n",
       "        [[ 928.3941 ,  543.0185 ]],\n",
       " \n",
       "        [[ 800.47925,  544.4893 ]],\n",
       " \n",
       "        [[ 671.0634 ,  545.2351 ]],\n",
       " \n",
       "        [[ 539.5561 ,  546.18115]],\n",
       " \n",
       "        [[ 404.51248,  547.3809 ]],\n",
       " \n",
       "        [[1162.469  ,  440.58417]],\n",
       " \n",
       "        [[1042.68   ,  442.71713]],\n",
       " \n",
       "        [[ 922.4823 ,  442.76917]],\n",
       " \n",
       "        [[ 799.93036,  443.67493]],\n",
       " \n",
       "        [[ 676.08966,  443.9063 ]],\n",
       " \n",
       "        [[ 550.46533,  444.14996]],\n",
       " \n",
       "        [[ 421.3681 ,  443.77426]],\n",
       " \n",
       "        [[1147.4888 ,  349.0746 ]],\n",
       " \n",
       "        [[1032.3812 ,  351.43033]],\n",
       " \n",
       "        [[ 917.0084 ,  351.51935]],\n",
       " \n",
       "        [[ 799.5272 ,  351.4617 ]],\n",
       " \n",
       "        [[ 680.61566,  351.2752 ]],\n",
       " \n",
       "        [[ 560.3231 ,  350.34628]],\n",
       " \n",
       "        [[ 436.51215,  348.2717 ]],\n",
       " \n",
       "        [[1134.0101 ,  264.2402 ]],\n",
       " \n",
       "        [[1023.04285,  265.55835]],\n",
       " \n",
       "        [[ 912.08374,  265.4675 ]],\n",
       " \n",
       "        [[ 798.92523,  264.59183]],\n",
       " \n",
       "        [[ 684.57043,  262.63782]],\n",
       " \n",
       "        [[ 568.80304,  260.9816 ]],\n",
       " \n",
       "        [[ 450.196  ,  258.34183]]], dtype=float32),\n",
       " array([[[1217.9694 ,  765.3534 ]],\n",
       " \n",
       "        [[1080.5355 ,  768.6397 ]],\n",
       " \n",
       "        [[ 942.27893,  771.5683 ]],\n",
       " \n",
       "        [[ 801.6669 ,  775.3304 ]],\n",
       " \n",
       "        [[ 658.71326,  778.0233 ]],\n",
       " \n",
       "        [[ 513.3445 ,  781.6069 ]],\n",
       " \n",
       "        [[ 363.07413,  785.0742 ]],\n",
       " \n",
       "        [[1197.0835 ,  648.06903]],\n",
       " \n",
       "        [[1066.5403 ,  649.89905]],\n",
       " \n",
       "        [[ 934.9377 ,  651.86017]],\n",
       " \n",
       "        [[ 801.0598 ,  653.84204]],\n",
       " \n",
       "        [[ 665.4479 ,  656.48315]],\n",
       " \n",
       "        [[ 527.5029 ,  658.5058 ]],\n",
       " \n",
       "        [[ 385.12537,  660.25433]],\n",
       " \n",
       "        [[1178.7012 ,  540.5856 ]],\n",
       " \n",
       "        [[1053.9257 ,  542.03094]],\n",
       " \n",
       "        [[ 928.3941 ,  543.0185 ]],\n",
       " \n",
       "        [[ 800.47925,  544.4893 ]],\n",
       " \n",
       "        [[ 671.0634 ,  545.2351 ]],\n",
       " \n",
       "        [[ 539.5561 ,  546.18115]],\n",
       " \n",
       "        [[ 404.51248,  547.3809 ]],\n",
       " \n",
       "        [[1162.469  ,  440.58417]],\n",
       " \n",
       "        [[1042.68   ,  442.71713]],\n",
       " \n",
       "        [[ 922.4823 ,  442.76917]],\n",
       " \n",
       "        [[ 799.93036,  443.67493]],\n",
       " \n",
       "        [[ 676.08966,  443.9063 ]],\n",
       " \n",
       "        [[ 550.46533,  444.14996]],\n",
       " \n",
       "        [[ 421.3681 ,  443.77426]],\n",
       " \n",
       "        [[1147.4888 ,  349.0746 ]],\n",
       " \n",
       "        [[1032.3812 ,  351.43033]],\n",
       " \n",
       "        [[ 917.0084 ,  351.51935]],\n",
       " \n",
       "        [[ 799.5272 ,  351.4617 ]],\n",
       " \n",
       "        [[ 680.61566,  351.2752 ]],\n",
       " \n",
       "        [[ 560.3231 ,  350.34628]],\n",
       " \n",
       "        [[ 436.51215,  348.2717 ]],\n",
       " \n",
       "        [[1134.0101 ,  264.2402 ]],\n",
       " \n",
       "        [[1023.04285,  265.55835]],\n",
       " \n",
       "        [[ 912.08374,  265.4675 ]],\n",
       " \n",
       "        [[ 798.92523,  264.59183]],\n",
       " \n",
       "        [[ 684.57043,  262.63782]],\n",
       " \n",
       "        [[ 568.80304,  260.9816 ]],\n",
       " \n",
       "        [[ 450.196  ,  258.34183]]], dtype=float32)]"
      ]
     },
     "execution_count": 12,
     "metadata": {},
     "output_type": "execute_result"
    }
   ],
   "source": [
    "imgpoints"
   ]
  },
  {
   "cell_type": "code",
   "execution_count": 13,
   "id": "3df26f77",
   "metadata": {},
   "outputs": [
    {
     "data": {
      "text/plain": [
       "array([0., 0., 0.], dtype=float32)"
      ]
     },
     "execution_count": 13,
     "metadata": {},
     "output_type": "execute_result"
    }
   ],
   "source": [
    "objpoints[0][0]"
   ]
  },
  {
   "cell_type": "code",
   "execution_count": 14,
   "id": "7f796d76",
   "metadata": {},
   "outputs": [],
   "source": [
    "## writing imgpoints in a file\n",
    "data= imgpoints\n",
    "\n",
    "with open('imgpoints.txt', 'w') as f:\n",
    "    csv.writer(f, delimiter=' ').writerows(data)"
   ]
  },
  {
   "cell_type": "code",
   "execution_count": 15,
   "id": "fc4538ff",
   "metadata": {},
   "outputs": [],
   "source": [
    "## writing objpoints in a file\n",
    "data= objpoints\n",
    "\n",
    "with open('obj_file.txt', 'w') as f:\n",
    "    csv.writer(f, delimiter=' ').writerows(data)"
   ]
  },
  {
   "cell_type": "code",
   "execution_count": null,
   "id": "cac6a3ba",
   "metadata": {},
   "outputs": [],
   "source": []
  }
 ],
 "metadata": {
  "kernelspec": {
   "display_name": "Python 3 (ipykernel)",
   "language": "python",
   "name": "python3"
  },
  "language_info": {
   "codemirror_mode": {
    "name": "ipython",
    "version": 3
   },
   "file_extension": ".py",
   "mimetype": "text/x-python",
   "name": "python",
   "nbconvert_exporter": "python",
   "pygments_lexer": "ipython3",
   "version": "3.8.13"
  }
 },
 "nbformat": 4,
 "nbformat_minor": 5
}
