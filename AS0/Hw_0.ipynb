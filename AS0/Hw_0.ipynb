{
 "cells": [
  {
   "cell_type": "markdown",
   "id": "84cf9145",
   "metadata": {},
   "source": [
    "# Name: Akshay Jain"
   ]
  },
  {
   "cell_type": "markdown",
   "id": "22fdfb7c",
   "metadata": {},
   "source": [
    "# Student ID: A20502846"
   ]
  },
  {
   "cell_type": "markdown",
   "id": "89de1f3b",
   "metadata": {},
   "source": [
    "# Course Number: CS512"
   ]
  },
  {
   "cell_type": "markdown",
   "id": "595ad0e3",
   "metadata": {},
   "source": [
    "# Semester: Spring 22"
   ]
  },
  {
   "cell_type": "markdown",
   "id": "fb874096",
   "metadata": {},
   "source": [
    "# Solution A"
   ]
  },
  {
   "cell_type": "code",
   "execution_count": 46,
   "id": "097ffa8d",
   "metadata": {},
   "outputs": [],
   "source": [
    "#importing required libraries and defining a,b,c\n",
    "import math\n",
    "import numpy as np\n",
    "from numpy.linalg import eig\n",
    "\n",
    "a = np.array([[1], [2], [3]])\n",
    "b = np.array([[4], [5], [6]])\n",
    "c = np.array([[-1], [1], [3]])"
   ]
  },
  {
   "cell_type": "code",
   "execution_count": 47,
   "id": "f273c430",
   "metadata": {},
   "outputs": [
    {
     "name": "stdout",
     "output_type": "stream",
     "text": [
      "value of 2*a-b is:\n"
     ]
    },
    {
     "data": {
      "text/plain": [
       "array([[-2],\n",
       "       [-1],\n",
       "       [ 0]])"
      ]
     },
     "execution_count": 47,
     "metadata": {},
     "output_type": "execute_result"
    }
   ],
   "source": [
    "#1\n",
    "print(\"value of 2*a-b is:\")\n",
    "2*a-b"
   ]
  },
  {
   "cell_type": "code",
   "execution_count": 48,
   "id": "fae3226a",
   "metadata": {},
   "outputs": [
    {
     "name": "stdout",
     "output_type": "stream",
     "text": [
      "a unit vector in direction of a:\n"
     ]
    },
    {
     "data": {
      "text/plain": [
       "array([[0.26726124],\n",
       "       [0.53452248],\n",
       "       [0.80178373]])"
      ]
     },
     "execution_count": 48,
     "metadata": {},
     "output_type": "execute_result"
    }
   ],
   "source": [
    "#2\n",
    "print(\"a unit vector in direction of a:\")\n",
    "a_hat = a / (a**2).sum()**0.5\n",
    "a_hat"
   ]
  },
  {
   "cell_type": "code",
   "execution_count": 49,
   "id": "2681c52a",
   "metadata": {},
   "outputs": [
    {
     "name": "stdout",
     "output_type": "stream",
     "text": [
      "||a|| is : 3.7416573867739413\n"
     ]
    }
   ],
   "source": [
    "#3.a\n",
    "mag_of_a =np.linalg.norm(a)\n",
    "print('||a|| is :', mag_of_a)"
   ]
  },
  {
   "cell_type": "code",
   "execution_count": 50,
   "id": "dcc20b20",
   "metadata": {},
   "outputs": [
    {
     "name": "stdout",
     "output_type": "stream",
     "text": [
      "angle (in degrees) of vector 'a' realtive to positive X axis is : 74.498640433063\n"
     ]
    }
   ],
   "source": [
    "#3.b\n",
    "# 'X' a vector corresponding to +ve X axis\n",
    "X = np.array([[1], [0], [0]])\n",
    "\n",
    "X_sqz = np.squeeze(np.asarray(X))\n",
    "a_hat_sqz = np.squeeze(np.asarray(a_hat))\n",
    "\n",
    "dot_product = np.dot(a_hat_sqz, X_sqz)\n",
    "\n",
    "relative_angle = np.arccos(dot_product)\n",
    "relative_angle_in_degrees= np.degrees(relative_angle)\n",
    "print (\"angle (in degrees) of vector 'a' realtive to positive X axis is :\",relative_angle_in_degrees)"
   ]
  },
  {
   "cell_type": "code",
   "execution_count": 51,
   "id": "383a4d0a",
   "metadata": {},
   "outputs": [
    {
     "name": "stdout",
     "output_type": "stream",
     "text": [
      "direction cosines of a : [0.26726124] [0.53452248] [0.80178373]\n"
     ]
    }
   ],
   "source": [
    "#4\n",
    "cosa= a_hat[0]\n",
    "cosb= a_hat[1]\n",
    "cosc= a_hat[2]\n",
    "print(\"direction cosines of a :\", cosa, cosb, cosc)"
   ]
  },
  {
   "cell_type": "code",
   "execution_count": 52,
   "id": "99255eb6",
   "metadata": {},
   "outputs": [
    {
     "name": "stdout",
     "output_type": "stream",
     "text": [
      "angle between a and b : 12.933154491899135\n"
     ]
    }
   ],
   "source": [
    "#5\n",
    "unit_vector_a = a / np.linalg.norm(a)\n",
    "unit_vector_b = b / np.linalg.norm(b)\n",
    "\n",
    "a1 = np.squeeze(np.asarray(unit_vector_a))\n",
    "b1 = np.squeeze(np.asarray(unit_vector_b))\n",
    "\n",
    "dot_product = np.dot(a1, b1)\n",
    "\n",
    "angle = np.arccos(dot_product)\n",
    "angle_in_degrees= np.degrees(angle)\n",
    "\n",
    "print(\"angle between a and b :\",angle_in_degrees)"
   ]
  },
  {
   "cell_type": "code",
   "execution_count": 53,
   "id": "03500b33",
   "metadata": {},
   "outputs": [
    {
     "name": "stdout",
     "output_type": "stream",
     "text": [
      "a.b : 32\n",
      "b.a : 32\n"
     ]
    }
   ],
   "source": [
    "#6\n",
    "asqz = np.squeeze(np.asarray(a))\n",
    "bsqz = np.squeeze(np.asarray(b))\n",
    "adotb = np.dot(asqz, bsqz)\n",
    "bdota = np.dot(bsqz, asqz)\n",
    "print(\"a.b :\",adotb)\n",
    "print(\"b.a :\",bdota)"
   ]
  },
  {
   "cell_type": "code",
   "execution_count": 54,
   "id": "3a704fc5",
   "metadata": {},
   "outputs": [
    {
     "name": "stdout",
     "output_type": "stream",
     "text": [
      "a.b by using angle b/w a and b: is 32.0\n"
     ]
    }
   ],
   "source": [
    "#7\n",
    "# using value of angle from answer 5\n",
    "adotb = np.linalg.norm(a)* np.linalg.norm(b)*math.cos(angle)\n",
    "print(\"a.b by using angle b/w a and b: is\", adotb) "
   ]
  },
  {
   "cell_type": "code",
   "execution_count": 55,
   "id": "7c507d98",
   "metadata": {},
   "outputs": [
    {
     "name": "stdout",
     "output_type": "stream",
     "text": [
      "projection of b onto a_hat is : [8.55235974]\n"
     ]
    }
   ],
   "source": [
    "#8 ## Scaler projection ?\n",
    "b_sqz = np.squeeze(np.asarray(b))\n",
    "projection_value = np.dot(b_sqz, a_hat) / np.linalg.norm(a_hat_sqz)\n",
    "print((\"projection of b onto a_hat is :\"), projection_value)"
   ]
  },
  {
   "cell_type": "code",
   "execution_count": 56,
   "id": "fdb9ac9a",
   "metadata": {},
   "outputs": [
    {
     "name": "stdout",
     "output_type": "stream",
     "text": [
      "a vector perpendiculat to vector 'a' is : [[-3]\n",
      " [ 6]\n",
      " [-3]]\n"
     ]
    }
   ],
   "source": [
    "#9\n",
    "a_cross_b = np.cross(a, b, axis=0)\n",
    "print(\"a vector perpendiculat to vector 'a' is :\",a_cross_b)"
   ]
  },
  {
   "cell_type": "code",
   "execution_count": 57,
   "id": "2d682fdb",
   "metadata": {},
   "outputs": [
    {
     "name": "stdout",
     "output_type": "stream",
     "text": [
      "cross product a x b is: [[-3]\n",
      " [ 6]\n",
      " [-3]]\n",
      "cross product b x a is: [[ 3]\n",
      " [-6]\n",
      " [ 3]]\n"
     ]
    }
   ],
   "source": [
    "#10\n",
    "# Note : for cross product vectors are defined along the first axis, rather than the last axis.\n",
    "a_cross_b = np.cross(a, b, axis=0)\n",
    "b_cross_a = np.cross(b, a, axis=0)\n",
    "\n",
    "print(\"cross product a x b is:\",a_cross_b)\n",
    "print(\"cross product b x a is:\",b_cross_a)"
   ]
  },
  {
   "cell_type": "code",
   "execution_count": 58,
   "id": "4207f27b",
   "metadata": {},
   "outputs": [
    {
     "name": "stdout",
     "output_type": "stream",
     "text": [
      "a vector which is perpendiculat to both vector 'a' and 'b' is : [[-3]\n",
      " [ 6]\n",
      " [-3]]\n"
     ]
    }
   ],
   "source": [
    "#11\n",
    "print(\"a vector which is perpendiculat to both vector 'a' and 'b' is :\",a_cross_b)"
   ]
  },
  {
   "cell_type": "code",
   "execution_count": 59,
   "id": "9de0795c",
   "metadata": {},
   "outputs": [
    {
     "name": "stdout",
     "output_type": "stream",
     "text": [
      "determinant of a,b,c is 0.0\n",
      "as the determinant of a,b,c is '0.0', vectors are Not Linearly Dependent\n"
     ]
    }
   ],
   "source": [
    "#12 #CHECK\n",
    "M = np.array([[1, 4, -1], \n",
    "    [2,5,1],\n",
    "    [3,6,3]])\n",
    "\n",
    "determinant = np.linalg.det(M)\n",
    "print(\"determinant of a,b,c is\", round(determinant,3))\n",
    "print(\"as the determinant of a,b,c is '0.0', vectors are Not Linearly Dependent\")"
   ]
  },
  {
   "cell_type": "code",
   "execution_count": 8,
   "id": "32f3a992",
   "metadata": {},
   "outputs": [
    {
     "name": "stdout",
     "output_type": "stream",
     "text": [
      "a_transpose*b :  [[32]]\n",
      "b_transpose*a :  [[ 4  5  6]\n",
      " [ 8 10 12]\n",
      " [12 15 18]]\n"
     ]
    }
   ],
   "source": [
    "#13\n",
    "a_transpose = a.transpose()\n",
    "b_transpose = b.transpose()\n",
    "print(\"a_transpose*b : \",a_transpose@b)\n",
    "print(\"b_transpose*a : \",a@b_transpose)"
   ]
  },
  {
   "cell_type": "markdown",
   "id": "9bb19fd4",
   "metadata": {},
   "source": [
    "# Solution B"
   ]
  },
  {
   "cell_type": "code",
   "execution_count": 29,
   "id": "95c5e811",
   "metadata": {},
   "outputs": [],
   "source": [
    "# defining a,b,c,d\n",
    "A = np.array([[1, 2, 3], \n",
    "    [4,-2, 3],\n",
    "    [0,5,-1]])\n",
    "B = np.array([[1, 2, 1], \n",
    "    [2,1,-4],\n",
    "    [3,-2,1]])\n",
    "C= np.array([[1, 2, 3], \n",
    "    [4,5,6],\n",
    "    [-1,1,3]])\n",
    "d = np.array([[1], [2], [3]])"
   ]
  },
  {
   "cell_type": "code",
   "execution_count": 30,
   "id": "bb811106",
   "metadata": {},
   "outputs": [
    {
     "name": "stdout",
     "output_type": "stream",
     "text": [
      "2*A-B:\n"
     ]
    },
    {
     "data": {
      "text/plain": [
       "array([[ 1,  2,  5],\n",
       "       [ 6, -5, 10],\n",
       "       [-3, 12, -3]])"
      ]
     },
     "execution_count": 30,
     "metadata": {},
     "output_type": "execute_result"
    }
   ],
   "source": [
    "#1\n",
    "print(\"2*A-B:\")\n",
    "2*A-B"
   ]
  },
  {
   "cell_type": "code",
   "execution_count": 31,
   "id": "a34c1c11",
   "metadata": {},
   "outputs": [
    {
     "name": "stdout",
     "output_type": "stream",
     "text": [
      "matrix multiplication AB: [[ 14  -2  -4]\n",
      " [  9   0  15]\n",
      " [  7   7 -21]]\n",
      "matrix multiplication BA: [[  9   3   8]\n",
      " [  6 -18  13]\n",
      " [ -5  15   2]]\n"
     ]
    }
   ],
   "source": [
    "#2\n",
    "AB = A @ B # using @ operator\n",
    "BA = B @ A\n",
    "print(\"matrix multiplication AB:\",AB)\n",
    "print(\"matrix multiplication BA:\",BA)"
   ]
  },
  {
   "cell_type": "code",
   "execution_count": 32,
   "id": "9107b7bf",
   "metadata": {},
   "outputs": [
    {
     "name": "stdout",
     "output_type": "stream",
     "text": [
      "transpose_AB [[ 14   9   7]\n",
      " [ -2   0   7]\n",
      " [ -4  15 -21]]\n",
      "transpose_B_transpose_A [[ 14   9   7]\n",
      " [ -2   0   7]\n",
      " [ -4  15 -21]]\n"
     ]
    }
   ],
   "source": [
    "#3\n",
    "transpose_AB = AB.transpose() # using AB from answer 2\n",
    "\n",
    "transpose_A = A.transpose()\n",
    "transpose_B = B.transpose()\n",
    "transpose_B_transpose_A = transpose_B @ transpose_A\n",
    "\n",
    "print(\"transpose_AB\", transpose_AB)\n",
    "print(\"transpose_B_transpose_A\", transpose_B_transpose_A)"
   ]
  },
  {
   "cell_type": "code",
   "execution_count": 33,
   "id": "86bec843",
   "metadata": {},
   "outputs": [
    {
     "name": "stdout",
     "output_type": "stream",
     "text": [
      "|A| is: 55.0\n",
      "|C| is: 0.0\n"
     ]
    }
   ],
   "source": [
    "#4\n",
    "print('|A| is:', round(np.linalg.det(A),4))\n",
    "print('|C| is:', round(np.linalg.det(C),4))"
   ]
  },
  {
   "cell_type": "code",
   "execution_count": 34,
   "id": "8f193913",
   "metadata": {},
   "outputs": [
    {
     "name": "stdout",
     "output_type": "stream",
     "text": [
      "'B' is the only matrix in which row vectors form an orthogonal set as the dot product of the rows is zero\n"
     ]
    }
   ],
   "source": [
    "#5\n",
    "print(\"'B' is the only matrix in which row vectors form an orthogonal set as the dot product of the rows is zero\")"
   ]
  },
  {
   "cell_type": "code",
   "execution_count": 35,
   "id": "e5d902f4",
   "metadata": {},
   "outputs": [
    {
     "name": "stdout",
     "output_type": "stream",
     "text": [
      "inverse_of_matrix_A is : [[-0.23636364  0.30909091  0.21818182]\n",
      " [ 0.07272727 -0.01818182  0.16363636]\n",
      " [ 0.36363636 -0.09090909 -0.18181818]]\n",
      "inverse_of_matrix_B is : [[ 0.16666667  0.0952381   0.21428571]\n",
      " [ 0.33333333  0.04761905 -0.14285714]\n",
      " [ 0.16666667 -0.19047619  0.07142857]]\n"
     ]
    }
   ],
   "source": [
    "#6\n",
    "inverse_of_matrix_A = np.linalg.inv(A)\n",
    "inverse_of_matrix_B = np.linalg.inv(B)\n",
    "print(\"inverse_of_matrix_A is :\",inverse_of_matrix_A)\n",
    "print(\"inverse_of_matrix_B is :\",inverse_of_matrix_B)"
   ]
  },
  {
   "cell_type": "code",
   "execution_count": 36,
   "id": "48310686",
   "metadata": {},
   "outputs": [
    {
     "name": "stdout",
     "output_type": "stream",
     "text": [
      "inverse_of_matrix_C is : [[ 1.20095990e+16 -4.00319967e+15 -4.00319967e+15]\n",
      " [-2.40191980e+16  8.00639934e+15  8.00639934e+15]\n",
      " [ 1.20095990e+16 -4.00319967e+15 -4.00319967e+15]]\n"
     ]
    }
   ],
   "source": [
    "#7\n",
    "inverse_of_matrix_C = np.linalg.inv(C)\n",
    "print(\"inverse_of_matrix_C is :\",inverse_of_matrix_C)"
   ]
  },
  {
   "cell_type": "code",
   "execution_count": 37,
   "id": "f3fd736a",
   "metadata": {},
   "outputs": [
    {
     "name": "stdout",
     "output_type": "stream",
     "text": [
      "matrix multiplication Ad: [[14]\n",
      " [ 9]\n",
      " [ 7]]\n"
     ]
    }
   ],
   "source": [
    "#8\n",
    "Ad = A @ d\n",
    "print(\"matrix multiplication Ad:\",Ad)"
   ]
  },
  {
   "cell_type": "code",
   "execution_count": 43,
   "id": "42292fe2",
   "metadata": {},
   "outputs": [
    {
     "name": "stdout",
     "output_type": "stream",
     "text": [
      "scaler_projection of A onto d : [[3.74165739]\n",
      " [2.40535118]\n",
      " [1.87082869]]\n"
     ]
    }
   ],
   "source": [
    "#9\n",
    "scaler_projection = np.dot(A, d) / np.linalg.norm(d)\n",
    "print(\"scaler_projection of A onto d :\", scaler_projection)"
   ]
  },
  {
   "cell_type": "code",
   "execution_count": 44,
   "id": "fa0c3c28",
   "metadata": {},
   "outputs": [
    {
     "name": "stdout",
     "output_type": "stream",
     "text": [
      "vector_projection of A onto d : [[3.74165739]\n",
      " [2.40535118]\n",
      " [1.87082869]]\n"
     ]
    }
   ],
   "source": [
    "#10\n",
    "vector_projection = (np.dot(A, d) / np.linalg.norm(d)**2 ) * d\n",
    "print(\"vector_projection of A onto d :\", scaler_projection)"
   ]
  },
  {
   "cell_type": "code",
   "execution_count": null,
   "id": "d2de50a9",
   "metadata": {},
   "outputs": [],
   "source": [
    "#11"
   ]
  },
  {
   "cell_type": "code",
   "execution_count": 41,
   "id": "a2f4f9c6",
   "metadata": {},
   "outputs": [],
   "source": [
    "#12"
   ]
  },
  {
   "cell_type": "code",
   "execution_count": null,
   "id": "9fea9d51",
   "metadata": {},
   "outputs": [],
   "source": [
    "#13"
   ]
  },
  {
   "cell_type": "markdown",
   "id": "c0d9af3d",
   "metadata": {},
   "source": [
    "# Solution C"
   ]
  },
  {
   "cell_type": "code",
   "execution_count": 11,
   "id": "128c22e0",
   "metadata": {},
   "outputs": [],
   "source": [
    "# defining D,E,F\n",
    "D = np.array([[1, 2], \n",
    "    [3, 2]])\n",
    "E = np.array([[2, -2], \n",
    "    [-2, 5]])\n",
    "F = np.array([[1,2], \n",
    "    [2,4]])"
   ]
  },
  {
   "cell_type": "code",
   "execution_count": 74,
   "id": "b1033f9e",
   "metadata": {},
   "outputs": [
    {
     "name": "stdout",
     "output_type": "stream",
     "text": [
      "eigenvalues of D: [-1.  4.]\n",
      "corresponding eigenvectors of D [[-0.70710678 -0.5547002 ]\n",
      " [ 0.70710678 -0.83205029]]\n"
     ]
    }
   ],
   "source": [
    "#1\n",
    "w,v=eig(D)\n",
    "print('eigenvalues of D:', w)\n",
    "print('corresponding eigenvectors of D', v)"
   ]
  },
  {
   "cell_type": "code",
   "execution_count": 76,
   "id": "e9b990b3",
   "metadata": {},
   "outputs": [
    {
     "name": "stdout",
     "output_type": "stream",
     "text": [
      "dot product b/w eigenvectors of D\n"
     ]
    },
    {
     "data": {
      "text/plain": [
       "-0.038461538461538214"
      ]
     },
     "execution_count": 76,
     "metadata": {},
     "output_type": "execute_result"
    }
   ],
   "source": [
    "#2\n",
    "print(\"dot product b/w eigenvectors of D\")\n",
    "dot_product = np.dot(v[0], v[1])\n",
    "dot_product #check"
   ]
  },
  {
   "cell_type": "code",
   "execution_count": 77,
   "id": "628b883b",
   "metadata": {},
   "outputs": [
    {
     "name": "stdout",
     "output_type": "stream",
     "text": [
      "dot product b/w eigenvectors of E\n"
     ]
    },
    {
     "data": {
      "text/plain": [
       "0.0"
      ]
     },
     "execution_count": 77,
     "metadata": {},
     "output_type": "execute_result"
    }
   ],
   "source": [
    "#3\n",
    "w,v=eig(E)\n",
    "print(\"dot product b/w eigenvectors of E\")\n",
    "dot_product = np.dot(v[0], v[1])\n",
    "dot_product"
   ]
  },
  {
   "cell_type": "code",
   "execution_count": 9,
   "id": "67604fd7",
   "metadata": {},
   "outputs": [
    {
     "name": "stdout",
     "output_type": "stream",
     "text": [
      " from answer 3 as dot product of eigen vectors of E is zero so one of the property is both the eigen vectors are perpendiculat to each other \n"
     ]
    }
   ],
   "source": [
    "#4\n",
    "print(\" from answer 3 as dot product of eigen vectors of E is zero so one of the property is both the eigen vectors are perpendiculat to each other \")"
   ]
  },
  {
   "cell_type": "code",
   "execution_count": 25,
   "id": "164800fb",
   "metadata": {},
   "outputs": [
    {
     "name": "stdout",
     "output_type": "stream",
     "text": [
      "|F| is: 0.0\n",
      "as the determinant of F is '0' therfore only trivial solution for F(x) is (0,0)\n"
     ]
    }
   ],
   "source": [
    "#5\n",
    "print('|F| is:', round(np.linalg.det(F),4))\n",
    "print(\"as the determinant of F is '0' therfore only trivial solution for F(x) is (0,0)\")"
   ]
  },
  {
   "cell_type": "code",
   "execution_count": 27,
   "id": "6d97f70b",
   "metadata": {},
   "outputs": [
    {
     "name": "stdout",
     "output_type": "stream",
     "text": [
      "|F| is: 0.0\n",
      "non-trivial solution of F(x)=0 is x = -2y\n"
     ]
    }
   ],
   "source": [
    "#6\n",
    "print('|F| is:', round(np.linalg.det(F),4))\n",
    "print(\"non-trivial solution of F(x)=0 is x = -2y\" )"
   ]
  },
  {
   "cell_type": "code",
   "execution_count": 60,
   "id": "95f110fe",
   "metadata": {},
   "outputs": [
    {
     "name": "stdout",
     "output_type": "stream",
     "text": [
      "|D| is: -4.0\n",
      "On solving D matrix we get x+2y=0 and 3x+2y=0, hence the only possible outcome for x and y is (0,0)\n"
     ]
    }
   ],
   "source": [
    "#7 #check\n",
    "print('|D| is:', round(np.linalg.det(D),4))\n",
    "print('On solving D matrix we get x+2y=0 and 3x+2y=0, hence the only possible outcome for x and y is (0,0)')"
   ]
  },
  {
   "cell_type": "code",
   "execution_count": null,
   "id": "2d725575",
   "metadata": {},
   "outputs": [],
   "source": []
  }
 ],
 "metadata": {
  "kernelspec": {
   "display_name": "Python 3",
   "language": "python",
   "name": "python3"
  },
  "language_info": {
   "codemirror_mode": {
    "name": "ipython",
    "version": 3
   },
   "file_extension": ".py",
   "mimetype": "text/x-python",
   "name": "python",
   "nbconvert_exporter": "python",
   "pygments_lexer": "ipython3",
   "version": "3.8.5"
  }
 },
 "nbformat": 4,
 "nbformat_minor": 5
}
